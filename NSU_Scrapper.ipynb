{
 "cells": [
  {
   "cell_type": "markdown",
   "metadata": {
    "id": "P76W6NkttM7I"
   },
   "source": [
    "Imports"
   ]
  },
  {
   "cell_type": "code",
   "execution_count": 1,
   "metadata": {
    "id": "EXSX5CEbsvMn"
   },
   "outputs": [],
   "source": [
    "from bs4 import BeautifulSoup as soup\n",
    "from urllib.request import urlopen\n",
    "import pandas as pd\n",
    "import requests\n",
    "import re"
   ]
  },
  {
   "cell_type": "markdown",
   "metadata": {
    "id": "xKSlqjZXtRbq"
   },
   "source": [
    "Opening The Url"
   ]
  },
  {
   "cell_type": "code",
   "execution_count": 2,
   "metadata": {
    "id": "PyC9TcTWtWwl"
   },
   "outputs": [],
   "source": [
    "url = urlopen(\"http://www.northsouth.edu/\")\n",
    "nsu = soup(url.read())\n",
    "#Examples of how to find by tag\n",
    "#links = nsu.find_all('a')\n",
    "#scripts = nsu.find_all('script')"
   ]
  },
  {
   "cell_type": "markdown",
   "metadata": {
    "id": "qCwO2aHiC4sg"
   },
   "source": [
    "Going through all the links"
   ]
  },
  {
   "cell_type": "code",
   "execution_count": 3,
   "metadata": {
    "id": "vwuB1IgXC3Vr"
   },
   "outputs": [],
   "source": [
    "links = []\n",
    "\n",
    "for link in nsu.find_all('a'):\n",
    "  if 'href' in link.attrs:\n",
    "    links.append((link.attrs['href']))"
   ]
  },
  {
   "cell_type": "markdown",
   "metadata": {
    "id": "AjzxEaC7C8zk"
   },
   "source": [
    "Creating dataframe for the links"
   ]
  },
  {
   "cell_type": "code",
   "execution_count": 4,
   "metadata": {
    "colab": {
     "base_uri": "https://localhost:8080/",
     "height": 112
    },
    "id": "g-2MIXzx_6tH",
    "outputId": "14e1328c-8515-481f-98cb-0d3473e53b1b"
   },
   "outputs": [
    {
     "data": {
      "text/html": [
       "<div>\n",
       "<style scoped>\n",
       "    .dataframe tbody tr th:only-of-type {\n",
       "        vertical-align: middle;\n",
       "    }\n",
       "\n",
       "    .dataframe tbody tr th {\n",
       "        vertical-align: top;\n",
       "    }\n",
       "\n",
       "    .dataframe thead th {\n",
       "        text-align: right;\n",
       "    }\n",
       "</style>\n",
       "<table border=\"1\" class=\"dataframe\">\n",
       "  <thead>\n",
       "    <tr style=\"text-align: right;\">\n",
       "      <th></th>\n",
       "      <th>links</th>\n",
       "    </tr>\n",
       "  </thead>\n",
       "  <tbody>\n",
       "    <tr>\n",
       "      <th>0</th>\n",
       "      <td>contact-us.html</td>\n",
       "    </tr>\n",
       "    <tr>\n",
       "      <th>1</th>\n",
       "      <td>archive.html</td>\n",
       "    </tr>\n",
       "  </tbody>\n",
       "</table>\n",
       "</div>"
      ],
      "text/plain": [
       "             links\n",
       "0  contact-us.html\n",
       "1     archive.html"
      ]
     },
     "execution_count": 4,
     "metadata": {},
     "output_type": "execute_result"
    }
   ],
   "source": [
    "links_df = pd.DataFrame(links)\n",
    "links_df.head(2)\n",
    "\n",
    "#Nameing the columns\n",
    "links_df.columns = ['links']\n",
    "links_df.head(2)\n"
   ]
  },
  {
   "cell_type": "markdown",
   "metadata": {
    "id": "6ffPon_PDLrv"
   },
   "source": [
    "Modifying the dataframe"
   ]
  },
  {
   "cell_type": "code",
   "execution_count": 5,
   "metadata": {
    "colab": {
     "base_uri": "https://localhost:8080/",
     "height": 112
    },
    "id": "Kvc6Y4KX7mw1",
    "outputId": "3c8724da-1235-4f8c-dc92-dcdc0dd20083"
   },
   "outputs": [
    {
     "data": {
      "text/html": [
       "<div>\n",
       "<style scoped>\n",
       "    .dataframe tbody tr th:only-of-type {\n",
       "        vertical-align: middle;\n",
       "    }\n",
       "\n",
       "    .dataframe tbody tr th {\n",
       "        vertical-align: top;\n",
       "    }\n",
       "\n",
       "    .dataframe thead th {\n",
       "        text-align: right;\n",
       "    }\n",
       "</style>\n",
       "<table border=\"1\" class=\"dataframe\">\n",
       "  <thead>\n",
       "    <tr style=\"text-align: right;\">\n",
       "      <th></th>\n",
       "      <th>links</th>\n",
       "    </tr>\n",
       "  </thead>\n",
       "  <tbody>\n",
       "    <tr>\n",
       "      <th>0</th>\n",
       "      <td>contact-us.html</td>\n",
       "    </tr>\n",
       "    <tr>\n",
       "      <th>1</th>\n",
       "      <td>archive.html</td>\n",
       "    </tr>\n",
       "  </tbody>\n",
       "</table>\n",
       "</div>"
      ],
      "text/plain": [
       "             links\n",
       "0  contact-us.html\n",
       "1     archive.html"
      ]
     },
     "execution_count": 5,
     "metadata": {},
     "output_type": "execute_result"
    }
   ],
   "source": [
    "# Removing empty links from the dataframe\n",
    "links_df = links_df[links_df[\"links\"].str.contains(\"#\") == False]\n",
    "links_df.head(2)"
   ]
  },
  {
   "cell_type": "code",
   "execution_count": 6,
   "metadata": {
    "colab": {
     "base_uri": "https://localhost:8080/",
     "height": 112
    },
    "id": "bpUdOF827r2f",
    "outputId": "d5cf48e2-c976-40f4-f1e3-3aa724aee9b6"
   },
   "outputs": [
    {
     "data": {
      "text/html": [
       "<div>\n",
       "<style scoped>\n",
       "    .dataframe tbody tr th:only-of-type {\n",
       "        vertical-align: middle;\n",
       "    }\n",
       "\n",
       "    .dataframe tbody tr th {\n",
       "        vertical-align: top;\n",
       "    }\n",
       "\n",
       "    .dataframe thead th {\n",
       "        text-align: right;\n",
       "    }\n",
       "</style>\n",
       "<table border=\"1\" class=\"dataframe\">\n",
       "  <thead>\n",
       "    <tr style=\"text-align: right;\">\n",
       "      <th></th>\n",
       "      <th>links</th>\n",
       "    </tr>\n",
       "  </thead>\n",
       "  <tbody>\n",
       "    <tr>\n",
       "      <th>0</th>\n",
       "      <td>contact-us.html</td>\n",
       "    </tr>\n",
       "    <tr>\n",
       "      <th>1</th>\n",
       "      <td>archive.html</td>\n",
       "    </tr>\n",
       "  </tbody>\n",
       "</table>\n",
       "</div>"
      ],
      "text/plain": [
       "             links\n",
       "0  contact-us.html\n",
       "1     archive.html"
      ]
     },
     "execution_count": 6,
     "metadata": {},
     "output_type": "execute_result"
    }
   ],
   "source": [
    "# Removing external links from the data frame\n",
    "internal_links = links_df[links_df[\"links\"].str.contains(\"http\") == False]\n",
    "internal_links.head(2)"
   ]
  },
  {
   "cell_type": "code",
   "execution_count": 7,
   "metadata": {
    "colab": {
     "base_uri": "https://localhost:8080/",
     "height": 236
    },
    "id": "g7PBi3hUDS5z",
    "outputId": "c04a05b9-6b45-4aed-a41e-8b2ec470189b"
   },
   "outputs": [
    {
     "name": "stderr",
     "output_type": "stream",
     "text": [
      "/var/folders/_w/kwxvx6js1gvfr3r6sz47fpmc0000gn/T/ipykernel_10823/3951678606.py:2: SettingWithCopyWarning: \n",
      "A value is trying to be set on a copy of a slice from a DataFrame.\n",
      "Try using .loc[row_indexer,col_indexer] = value instead\n",
      "\n",
      "See the caveats in the documentation: https://pandas.pydata.org/pandas-docs/stable/user_guide/indexing.html#returning-a-view-versus-a-copy\n",
      "  internal_links['links'] = 'http://www.northsouth.edu/' + internal_links['links'].astype(str)\n"
     ]
    },
    {
     "data": {
      "text/html": [
       "<div>\n",
       "<style scoped>\n",
       "    .dataframe tbody tr th:only-of-type {\n",
       "        vertical-align: middle;\n",
       "    }\n",
       "\n",
       "    .dataframe tbody tr th {\n",
       "        vertical-align: top;\n",
       "    }\n",
       "\n",
       "    .dataframe thead th {\n",
       "        text-align: right;\n",
       "    }\n",
       "</style>\n",
       "<table border=\"1\" class=\"dataframe\">\n",
       "  <thead>\n",
       "    <tr style=\"text-align: right;\">\n",
       "      <th></th>\n",
       "      <th>links</th>\n",
       "    </tr>\n",
       "  </thead>\n",
       "  <tbody>\n",
       "    <tr>\n",
       "      <th>0</th>\n",
       "      <td>http://www.northsouth.edu/contact-us.html</td>\n",
       "    </tr>\n",
       "    <tr>\n",
       "      <th>1</th>\n",
       "      <td>http://www.northsouth.edu/archive.html</td>\n",
       "    </tr>\n",
       "  </tbody>\n",
       "</table>\n",
       "</div>"
      ],
      "text/plain": [
       "                                       links\n",
       "0  http://www.northsouth.edu/contact-us.html\n",
       "1     http://www.northsouth.edu/archive.html"
      ]
     },
     "execution_count": 7,
     "metadata": {},
     "output_type": "execute_result"
    }
   ],
   "source": [
    "# Adding Https infront of all the addresses\n",
    "internal_links['links'] = 'http://www.northsouth.edu/' + internal_links['links'].astype(str)\n",
    "internal_links.head(2)"
   ]
  },
  {
   "cell_type": "code",
   "execution_count": 8,
   "metadata": {
    "colab": {
     "base_uri": "https://localhost:8080/",
     "height": 112
    },
    "id": "eEXSy3IMDU1l",
    "outputId": "03371ef5-cdcb-4da0-9807-9bf500d519bd"
   },
   "outputs": [
    {
     "data": {
      "text/html": [
       "<div>\n",
       "<style scoped>\n",
       "    .dataframe tbody tr th:only-of-type {\n",
       "        vertical-align: middle;\n",
       "    }\n",
       "\n",
       "    .dataframe tbody tr th {\n",
       "        vertical-align: top;\n",
       "    }\n",
       "\n",
       "    .dataframe thead th {\n",
       "        text-align: right;\n",
       "    }\n",
       "</style>\n",
       "<table border=\"1\" class=\"dataframe\">\n",
       "  <thead>\n",
       "    <tr style=\"text-align: right;\">\n",
       "      <th></th>\n",
       "      <th>links</th>\n",
       "    </tr>\n",
       "  </thead>\n",
       "  <tbody>\n",
       "    <tr>\n",
       "      <th>5</th>\n",
       "      <td>http://library.northsouth.edu</td>\n",
       "    </tr>\n",
       "    <tr>\n",
       "      <th>7</th>\n",
       "      <td>http://institutions.northsouth.edu/oea/interna...</td>\n",
       "    </tr>\n",
       "  </tbody>\n",
       "</table>\n",
       "</div>"
      ],
      "text/plain": [
       "                                               links\n",
       "5                      http://library.northsouth.edu\n",
       "7  http://institutions.northsouth.edu/oea/interna..."
      ]
     },
     "execution_count": 8,
     "metadata": {},
     "output_type": "execute_result"
    }
   ],
   "source": [
    "# Creating new dataframe for external links\n",
    "external_links = links_df[links_df[\"links\"].str.contains(\"http\") == True]\n",
    "external_links.head(2)"
   ]
  },
  {
   "cell_type": "markdown",
   "metadata": {
    "id": "hPC9BS-UErmC"
   },
   "source": [
    "Getting all the text data from the homepage"
   ]
  },
  {
   "cell_type": "code",
   "execution_count": 9,
   "metadata": {
    "colab": {
     "base_uri": "https://localhost:8080/",
     "height": 122
    },
    "id": "TGDgpL2RC0G9",
    "outputId": "6b8e5696-e033-4b55-d148-43c73adca57b"
   },
   "outputs": [
    {
     "data": {
      "text/plain": [
       "' Home | North South University NSU Ranked #1 In Bangladesh with the following international university ranking agencies 1. Times Higher Education (THE): 2023 (Public/Private Universities) 2. QS World University Ranking: 2022, 2021, 2020 (Private) 3. QS Asia University Ranking: 2023, 2022, 2021, 2020, 2019 (Private) 4. Webometrics University Ranking: 2022 (Private) Undergraduate Study Graduate Study Research Notice 05/04/2023 04/04/2023 27/03/2023 14/03/2023 13/03/2023 '"
      ]
     },
     "execution_count": 9,
     "metadata": {},
     "output_type": "execute_result"
    }
   ],
   "source": [
    "for data in nsu(['style', 'script', 'a', 'footer', 'nav']):\n",
    "  # Remove tags\n",
    "  data.decompose()\n",
    "\n",
    "data = nsu.get_text()\n",
    "data = data.replace(\"\\n\", \" \")\n",
    "#data = nsu.findAll('p')\n",
    "data = re.sub(' +',' ',data)\n",
    "\n",
    "data"
   ]
  },
  {
   "cell_type": "markdown",
   "metadata": {
    "id": "b7B-zzkk0EHB"
   },
   "source": [
    "Creating a new list for all data of different website pages"
   ]
  },
  {
   "cell_type": "code",
   "execution_count": 10,
   "metadata": {
    "colab": {
     "base_uri": "https://localhost:8080/",
     "height": 81
    },
    "id": "-V8uj_7SzFvo",
    "outputId": "09ceca5a-41ae-47cc-e1d1-1056bf6d969f"
   },
   "outputs": [],
   "source": [
    "website_data = pd.DataFrame({'address': ['http://www.northsouth.edu/'],\n",
    "                             'title': ['Home | North South University'],\n",
    "                             'data': [data]})\n",
    "#website_data[data].replace(\"\\n\",\" \")\n",
    "website_data\n",
    "\n",
    "#website_data.to_csv('scrapper_data.csv', mode='w', index=False, header=False)\n",
    "website_data.to_csv('scrapper_data.csv', mode='w', index=False)"
   ]
  },
  {
   "cell_type": "markdown",
   "metadata": {
    "id": "g4NwQMai6sLi"
   },
   "source": [
    "Interlink and External Link seperated into their own list"
   ]
  },
  {
   "cell_type": "code",
   "execution_count": 11,
   "metadata": {
    "id": "SOJvOU6837V7"
   },
   "outputs": [],
   "source": [
    "internal_link_list = []\n",
    "external_link_list = []\n",
    "\n",
    "for item in links:\n",
    "  if \"http\" in item:\n",
    "    external_link_list.append(item)\n",
    "  elif \"#\" in item:\n",
    "    continue\n",
    "  elif \"pdf\" in item:\n",
    "    continue\n",
    "  else:\n",
    "    internal_link_list.append(item)\n"
   ]
  },
  {
   "cell_type": "markdown",
   "metadata": {
    "id": "WNoyIyTs6zTL"
   },
   "source": [
    "Adding full address to all internal links"
   ]
  },
  {
   "cell_type": "code",
   "execution_count": 12,
   "metadata": {
    "colab": {
     "base_uri": "https://localhost:8080/"
    },
    "id": "FAmOkNvY6yv3",
    "outputId": "82c7d362-a7d5-49da-c33d-63d4d8e2907f",
    "scrolled": true
   },
   "outputs": [
    {
     "name": "stdout",
     "output_type": "stream",
     "text": [
      "95\n"
     ]
    }
   ],
   "source": [
    "internal_link_list_full = []\n",
    "for item in internal_link_list:\n",
    "  temp = \"http://www.northsouth.edu/\" + item\n",
    "  internal_link_list_full.append(temp)\n",
    "\n",
    "print(len(internal_link_list_full))\n"
   ]
  },
  {
   "cell_type": "markdown",
   "metadata": {
    "id": "Ypi0xqC4I6Xf"
   },
   "source": [
    "Getting All Links"
   ]
  },
  {
   "cell_type": "code",
   "execution_count": 13,
   "metadata": {
    "id": "RFs5mlcw3OEn"
   },
   "outputs": [],
   "source": [
    "# def get_links_from_list(url_list, temp_url_list):\n",
    "#   for url in url_list:\n",
    "#     headers = {\"User-Agent\":\"Mozilla/5.0\"}\n",
    "#     # start session and get the search page\n",
    "#     session = requests.Session()\n",
    "#     response = session.get(url)\n",
    "\n",
    "#     # parse the search page lxml\n",
    "#     data = soup(response.content, 'lxml')\n",
    "#     #print(\"Accessing URL -------------------------- \" + tag)\n",
    "    \n",
    "#     for link in data.find_all('a'):\n",
    "#       if 'href' in link.attrs:\n",
    "#           temp = link.attrs['href']\n",
    "#           #print(\"Url Found - \" + temp)\n",
    "#           if \"http\" in temp:\n",
    "#             continue\n",
    "#           elif \"#\" in temp:\n",
    "#             continue\n",
    "#           elif \"pdf\" in temp:\n",
    "#               continue\n",
    "#           elif \"//\" in temp:\n",
    "#             continue\n",
    "#           elif \"gmail\" in temp:\n",
    "#             continue\n",
    "#           elif \"mailto\" in temp:\n",
    "#             continue\n",
    "#           elif \"jpg\" in temp:\n",
    "#             continue\n",
    "#           elif \"jpeg\" in temp:\n",
    "#             continue\n",
    "#           elif \"png\" in temp:\n",
    "#             continue\n",
    "#           elif \"doc\" in temp:\n",
    "#             continue\n",
    "#           elif \"docx\" in temp:\n",
    "#             continue\n",
    "#           elif \"xls\" in temp:\n",
    "#             continue\n",
    "#           elif \"pptx\" in temp:\n",
    "#             continue\n",
    "#           elif \"~\" in temp:\n",
    "#             continue\n",
    "#           elif \"http://www.northsouth.edu/\" + temp in temp_url_list:\n",
    "#             continue\n",
    "#           else:\n",
    "#             #print(\"Appending Link ----- http://www.northsouth.edu/\" +temp)\n",
    "#             temp_url_list.append(\"http://www.northsouth.edu/\" + temp)\n",
    "#             with open(csv_name,'a') as fd:\n",
    "#               fd.write(\"http://www.northsouth.edu/\" + temp + \"\\n\")  \n",
    "\n",
    "#   print(\"def get links from list temp list size\")\n",
    "#   print(len(temp_url_list))"
   ]
  },
  {
   "cell_type": "code",
   "execution_count": 14,
   "metadata": {
    "colab": {
     "base_uri": "https://localhost:8080/"
    },
    "id": "-IsfRVOfe8v9",
    "outputId": "d0619939-3b6c-475e-b59e-95773929dc01"
   },
   "outputs": [],
   "source": [
    "# Getting links from the links in internal links list\n",
    "# temp_url_list_1 = []\n",
    "# temp_url_list_2 = []\n",
    "\n",
    "# get_links_from_list(internal_link_list_full, temp_url_list_1)\n",
    "# get_links_from_list(temp_url_list_1, temp_url_list_2)"
   ]
  },
  {
   "cell_type": "code",
   "execution_count": 15,
   "metadata": {},
   "outputs": [],
   "source": [
    "def get_links_from_url(url_list, temp_url_list):\n",
    "  for url in url_list:\n",
    "    headers = {\"User-Agent\":\"Mozilla/5.0\"}\n",
    "    # start session and get the search page\n",
    "    session = requests.Session()\n",
    "    response = session.get(url)\n",
    "\n",
    "    # parse the search page lxml\n",
    "    data = soup(response.content, 'lxml')\n",
    "    \n",
    "    # eclusion list\n",
    "    for link in data.find_all('a'):\n",
    "      if 'href' in link.attrs:\n",
    "          temp = link.attrs['href']\n",
    "          \n",
    "          if \"http\" in temp:\n",
    "            continue\n",
    "          elif \"#\" in temp:\n",
    "            continue\n",
    "          elif \"pdf\" in temp:\n",
    "              continue\n",
    "          elif \"//\" in temp:\n",
    "            continue\n",
    "          elif \"gmail\" in temp:\n",
    "            continue\n",
    "          elif \"mailto\" in temp:\n",
    "            continue\n",
    "          elif \"jpg\" in temp:\n",
    "            continue\n",
    "          elif \"jpeg\" in temp:\n",
    "            continue\n",
    "          elif \"png\" in temp:\n",
    "            continue\n",
    "          elif \"doc\" in temp:\n",
    "            continue\n",
    "          elif \"docx\" in temp:\n",
    "            continue\n",
    "          elif \"xls\" in temp:\n",
    "            continue\n",
    "          elif \"pptx\" in temp:\n",
    "            continue\n",
    "          elif \"~\" in temp:\n",
    "            continue\n",
    "          \n",
    "          else:\n",
    "            temp_url_list.add(\"http://www.northsouth.edu/\" + temp)\n",
    "\n",
    "\n",
    "  print(\"def get links from list temp list size\")\n",
    "  print(len(temp_url_list))"
   ]
  },
  {
   "cell_type": "code",
   "execution_count": 18,
   "metadata": {},
   "outputs": [
    {
     "name": "stdout",
     "output_type": "stream",
     "text": [
      "def get links from list temp list size\n",
      "733\n",
      "def get links from list temp list size\n",
      "2007\n"
     ]
    }
   ],
   "source": [
    "# Getting links from the links in internal links list\n",
    "temp_url_set_1 = set()\n",
    "temp_url_set_2 = set()\n",
    "\n",
    "get_links_from_url(internal_link_list_full, temp_url_set_1)\n",
    "get_links_from_url(temp_url_set_1, temp_url_set_2)"
   ]
  },
  {
   "cell_type": "code",
   "execution_count": 19,
   "metadata": {
    "colab": {
     "base_uri": "https://localhost:8080/"
    },
    "id": "2IlyZFd0wijZ",
    "outputId": "ec855b3f-b023-4c09-9f04-9000db8d17da",
    "scrolled": true
   },
   "outputs": [
    {
     "name": "stdout",
     "output_type": "stream",
     "text": [
      "733\n",
      "2007\n"
     ]
    }
   ],
   "source": [
    "print(len(temp_url_set_1))\n",
    "print(len(temp_url_set_2))"
   ]
  },
  {
   "cell_type": "code",
   "execution_count": null,
   "metadata": {
    "colab": {
     "base_uri": "https://localhost:8080/",
     "height": 235
    },
    "id": "I0BNDvLCA9PX",
    "outputId": "9e16696d-6bfd-42e8-d518-6f49ffde5d7f",
    "scrolled": true
   },
   "outputs": [],
   "source": [
    "session = requests.Session()\n",
    "\n",
    "for tag in temp_url_set_2:\n",
    "\n",
    "    # start session and get the search page\n",
    "    response = session.get(tag)\n",
    "\n",
    "    # parse the search page lxml\n",
    "    data = soup(response.content, 'lxml')\n",
    "    print(\"Accessing URL -------------------------- \" + tag)\n",
    "    \n",
    "    if data.find('title') is None:\n",
    "        continue\n",
    "    elif data.find('title').string is None:\n",
    "        continue\n",
    "    else:\n",
    "        title = data.find('title').string\n",
    "    \n",
    "        for item in data(['style', 'script', 'a', 'footer', 'nav', 'title']):\n",
    "            # Remove tags\n",
    "            item.decompose()\n",
    "        \n",
    "        #print(title)\n",
    "    \n",
    "        temp_data = data.get_text()\n",
    "        temp_data = temp_data.replace(\"\\n\", \" \")\n",
    "        temp_data = re.sub(' +',' ',temp_data)\n",
    "        print(temp_data)\n",
    "    \n",
    "        temp_df = pd.DataFrame({'address': [tag],\n",
    "                                'title': [title],\n",
    "                                'data': [temp_data]})\n",
    "        \n",
    "        #pd.concat([website_data, temp_df], ignore_index=True)\n",
    "        #website_data = website_data.append({'title': title}, ignore_index=True)\n",
    "        #website_data = website_data.append({'data': temp_data}, ignore_index=True)\n",
    "        #website_data = website_data.append({'address': tag, 'title': title, 'data': temp_data}, ignore_index=True)\n",
    "        \n",
    "        temp_df.to_csv('scrapper_data.csv', mode='a', index=False, header=False)    "
   ]
  }
 ],
 "metadata": {
  "colab": {
   "provenance": []
  },
  "kernelspec": {
   "display_name": "Python 3 (ipykernel)",
   "language": "python",
   "name": "python3"
  },
  "language_info": {
   "codemirror_mode": {
    "name": "ipython",
    "version": 3
   },
   "file_extension": ".py",
   "mimetype": "text/x-python",
   "name": "python",
   "nbconvert_exporter": "python",
   "pygments_lexer": "ipython3",
   "version": "3.9.16"
  }
 },
 "nbformat": 4,
 "nbformat_minor": 1
}

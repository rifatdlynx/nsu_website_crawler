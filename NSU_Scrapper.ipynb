{
 "cells": [
  {
   "cell_type": "markdown",
   "metadata": {
    "id": "P76W6NkttM7I"
   },
   "source": [
    "Imports"
   ]
  },
  {
   "cell_type": "code",
   "execution_count": 1,
   "metadata": {
    "id": "EXSX5CEbsvMn"
   },
   "outputs": [],
   "source": [
    "from bs4 import BeautifulSoup as soup\n",
    "from urllib.request import urlopen\n",
    "import pandas as pd\n",
    "import requests\n",
    "import re"
   ]
  },
  {
   "cell_type": "markdown",
   "metadata": {
    "id": "xKSlqjZXtRbq"
   },
   "source": [
    "Opening The Url"
   ]
  },
  {
   "cell_type": "code",
   "execution_count": 2,
   "metadata": {
    "id": "PyC9TcTWtWwl"
   },
   "outputs": [],
   "source": [
    "url = urlopen(\"http://www.northsouth.edu/\")\n",
    "nsu = soup(url.read())\n",
    "#Examples of how to find by tag\n",
    "#links = nsu.find_all('a')\n",
    "#scripts = nsu.find_all('script')"
   ]
  },
  {
   "cell_type": "markdown",
   "metadata": {
    "id": "qCwO2aHiC4sg"
   },
   "source": [
    "Going through all the links"
   ]
  },
  {
   "cell_type": "code",
   "execution_count": 3,
   "metadata": {
    "id": "vwuB1IgXC3Vr"
   },
   "outputs": [],
   "source": [
    "links = []\n",
    "\n",
    "for link in nsu.find_all('a'):\n",
    "  if 'href' in link.attrs:\n",
    "    links.append((link.attrs['href']))"
   ]
  },
  {
   "cell_type": "markdown",
   "metadata": {
    "id": "AjzxEaC7C8zk"
   },
   "source": [
    "Creating dataframe for the links"
   ]
  },
  {
   "cell_type": "code",
   "execution_count": 4,
   "metadata": {
    "colab": {
     "base_uri": "https://localhost:8080/",
     "height": 112
    },
    "id": "g-2MIXzx_6tH",
    "outputId": "14e1328c-8515-481f-98cb-0d3473e53b1b"
   },
   "outputs": [
    {
     "data": {
      "text/html": [
       "<div>\n",
       "<style scoped>\n",
       "    .dataframe tbody tr th:only-of-type {\n",
       "        vertical-align: middle;\n",
       "    }\n",
       "\n",
       "    .dataframe tbody tr th {\n",
       "        vertical-align: top;\n",
       "    }\n",
       "\n",
       "    .dataframe thead th {\n",
       "        text-align: right;\n",
       "    }\n",
       "</style>\n",
       "<table border=\"1\" class=\"dataframe\">\n",
       "  <thead>\n",
       "    <tr style=\"text-align: right;\">\n",
       "      <th></th>\n",
       "      <th>links</th>\n",
       "    </tr>\n",
       "  </thead>\n",
       "  <tbody>\n",
       "    <tr>\n",
       "      <th>0</th>\n",
       "      <td>contact-us.html</td>\n",
       "    </tr>\n",
       "    <tr>\n",
       "      <th>1</th>\n",
       "      <td>archive.html</td>\n",
       "    </tr>\n",
       "  </tbody>\n",
       "</table>\n",
       "</div>"
      ],
      "text/plain": [
       "             links\n",
       "0  contact-us.html\n",
       "1     archive.html"
      ]
     },
     "execution_count": 4,
     "metadata": {},
     "output_type": "execute_result"
    }
   ],
   "source": [
    "links_df = pd.DataFrame(links)\n",
    "links_df.head(2)\n",
    "\n",
    "#Nameing the columns\n",
    "links_df.columns = ['links']\n",
    "links_df.head(2)\n"
   ]
  },
  {
   "cell_type": "markdown",
   "metadata": {
    "id": "6ffPon_PDLrv"
   },
   "source": [
    "Modifying the dataframe"
   ]
  },
  {
   "cell_type": "code",
   "execution_count": 5,
   "metadata": {
    "colab": {
     "base_uri": "https://localhost:8080/",
     "height": 112
    },
    "id": "Kvc6Y4KX7mw1",
    "outputId": "3c8724da-1235-4f8c-dc92-dcdc0dd20083"
   },
   "outputs": [
    {
     "data": {
      "text/html": [
       "<div>\n",
       "<style scoped>\n",
       "    .dataframe tbody tr th:only-of-type {\n",
       "        vertical-align: middle;\n",
       "    }\n",
       "\n",
       "    .dataframe tbody tr th {\n",
       "        vertical-align: top;\n",
       "    }\n",
       "\n",
       "    .dataframe thead th {\n",
       "        text-align: right;\n",
       "    }\n",
       "</style>\n",
       "<table border=\"1\" class=\"dataframe\">\n",
       "  <thead>\n",
       "    <tr style=\"text-align: right;\">\n",
       "      <th></th>\n",
       "      <th>links</th>\n",
       "    </tr>\n",
       "  </thead>\n",
       "  <tbody>\n",
       "    <tr>\n",
       "      <th>0</th>\n",
       "      <td>contact-us.html</td>\n",
       "    </tr>\n",
       "    <tr>\n",
       "      <th>1</th>\n",
       "      <td>archive.html</td>\n",
       "    </tr>\n",
       "  </tbody>\n",
       "</table>\n",
       "</div>"
      ],
      "text/plain": [
       "             links\n",
       "0  contact-us.html\n",
       "1     archive.html"
      ]
     },
     "execution_count": 5,
     "metadata": {},
     "output_type": "execute_result"
    }
   ],
   "source": [
    "# Removing empty links from the dataframe\n",
    "links_df = links_df[links_df[\"links\"].str.contains(\"#\") == False]\n",
    "links_df.head(2)"
   ]
  },
  {
   "cell_type": "code",
   "execution_count": 6,
   "metadata": {
    "colab": {
     "base_uri": "https://localhost:8080/",
     "height": 112
    },
    "id": "bpUdOF827r2f",
    "outputId": "d5cf48e2-c976-40f4-f1e3-3aa724aee9b6"
   },
   "outputs": [
    {
     "data": {
      "text/html": [
       "<div>\n",
       "<style scoped>\n",
       "    .dataframe tbody tr th:only-of-type {\n",
       "        vertical-align: middle;\n",
       "    }\n",
       "\n",
       "    .dataframe tbody tr th {\n",
       "        vertical-align: top;\n",
       "    }\n",
       "\n",
       "    .dataframe thead th {\n",
       "        text-align: right;\n",
       "    }\n",
       "</style>\n",
       "<table border=\"1\" class=\"dataframe\">\n",
       "  <thead>\n",
       "    <tr style=\"text-align: right;\">\n",
       "      <th></th>\n",
       "      <th>links</th>\n",
       "    </tr>\n",
       "  </thead>\n",
       "  <tbody>\n",
       "    <tr>\n",
       "      <th>0</th>\n",
       "      <td>contact-us.html</td>\n",
       "    </tr>\n",
       "    <tr>\n",
       "      <th>1</th>\n",
       "      <td>archive.html</td>\n",
       "    </tr>\n",
       "  </tbody>\n",
       "</table>\n",
       "</div>"
      ],
      "text/plain": [
       "             links\n",
       "0  contact-us.html\n",
       "1     archive.html"
      ]
     },
     "execution_count": 6,
     "metadata": {},
     "output_type": "execute_result"
    }
   ],
   "source": [
    "# Removing external links from the data frame\n",
    "internal_links = links_df[links_df[\"links\"].str.contains(\"http\") == False]\n",
    "internal_links.head(2)"
   ]
  },
  {
   "cell_type": "code",
   "execution_count": 7,
   "metadata": {
    "colab": {
     "base_uri": "https://localhost:8080/",
     "height": 236
    },
    "id": "g7PBi3hUDS5z",
    "outputId": "c04a05b9-6b45-4aed-a41e-8b2ec470189b"
   },
   "outputs": [
    {
     "name": "stderr",
     "output_type": "stream",
     "text": [
      "/var/folders/_w/kwxvx6js1gvfr3r6sz47fpmc0000gn/T/ipykernel_10823/3951678606.py:2: SettingWithCopyWarning: \n",
      "A value is trying to be set on a copy of a slice from a DataFrame.\n",
      "Try using .loc[row_indexer,col_indexer] = value instead\n",
      "\n",
      "See the caveats in the documentation: https://pandas.pydata.org/pandas-docs/stable/user_guide/indexing.html#returning-a-view-versus-a-copy\n",
      "  internal_links['links'] = 'http://www.northsouth.edu/' + internal_links['links'].astype(str)\n"
     ]
    },
    {
     "data": {
      "text/html": [
       "<div>\n",
       "<style scoped>\n",
       "    .dataframe tbody tr th:only-of-type {\n",
       "        vertical-align: middle;\n",
       "    }\n",
       "\n",
       "    .dataframe tbody tr th {\n",
       "        vertical-align: top;\n",
       "    }\n",
       "\n",
       "    .dataframe thead th {\n",
       "        text-align: right;\n",
       "    }\n",
       "</style>\n",
       "<table border=\"1\" class=\"dataframe\">\n",
       "  <thead>\n",
       "    <tr style=\"text-align: right;\">\n",
       "      <th></th>\n",
       "      <th>links</th>\n",
       "    </tr>\n",
       "  </thead>\n",
       "  <tbody>\n",
       "    <tr>\n",
       "      <th>0</th>\n",
       "      <td>http://www.northsouth.edu/contact-us.html</td>\n",
       "    </tr>\n",
       "    <tr>\n",
       "      <th>1</th>\n",
       "      <td>http://www.northsouth.edu/archive.html</td>\n",
       "    </tr>\n",
       "  </tbody>\n",
       "</table>\n",
       "</div>"
      ],
      "text/plain": [
       "                                       links\n",
       "0  http://www.northsouth.edu/contact-us.html\n",
       "1     http://www.northsouth.edu/archive.html"
      ]
     },
     "execution_count": 7,
     "metadata": {},
     "output_type": "execute_result"
    }
   ],
   "source": [
    "# Adding Https infront of all the addresses\n",
    "internal_links['links'] = 'http://www.northsouth.edu/' + internal_links['links'].astype(str)\n",
    "internal_links.head(2)"
   ]
  },
  {
   "cell_type": "code",
   "execution_count": 8,
   "metadata": {
    "colab": {
     "base_uri": "https://localhost:8080/",
     "height": 112
    },
    "id": "eEXSy3IMDU1l",
    "outputId": "03371ef5-cdcb-4da0-9807-9bf500d519bd"
   },
   "outputs": [
    {
     "data": {
      "text/html": [
       "<div>\n",
       "<style scoped>\n",
       "    .dataframe tbody tr th:only-of-type {\n",
       "        vertical-align: middle;\n",
       "    }\n",
       "\n",
       "    .dataframe tbody tr th {\n",
       "        vertical-align: top;\n",
       "    }\n",
       "\n",
       "    .dataframe thead th {\n",
       "        text-align: right;\n",
       "    }\n",
       "</style>\n",
       "<table border=\"1\" class=\"dataframe\">\n",
       "  <thead>\n",
       "    <tr style=\"text-align: right;\">\n",
       "      <th></th>\n",
       "      <th>links</th>\n",
       "    </tr>\n",
       "  </thead>\n",
       "  <tbody>\n",
       "    <tr>\n",
       "      <th>5</th>\n",
       "      <td>http://library.northsouth.edu</td>\n",
       "    </tr>\n",
       "    <tr>\n",
       "      <th>7</th>\n",
       "      <td>http://institutions.northsouth.edu/oea/interna...</td>\n",
       "    </tr>\n",
       "  </tbody>\n",
       "</table>\n",
       "</div>"
      ],
      "text/plain": [
       "                                               links\n",
       "5                      http://library.northsouth.edu\n",
       "7  http://institutions.northsouth.edu/oea/interna..."
      ]
     },
     "execution_count": 8,
     "metadata": {},
     "output_type": "execute_result"
    }
   ],
   "source": [
    "# Creating new dataframe for external links\n",
    "external_links = links_df[links_df[\"links\"].str.contains(\"http\") == True]\n",
    "external_links.head(2)"
   ]
  },
  {
   "cell_type": "markdown",
   "metadata": {
    "id": "hPC9BS-UErmC"
   },
   "source": [
    "Getting all the text data from the homepage"
   ]
  },
  {
   "cell_type": "code",
   "execution_count": 9,
   "metadata": {
    "colab": {
     "base_uri": "https://localhost:8080/",
     "height": 122
    },
    "id": "TGDgpL2RC0G9",
    "outputId": "6b8e5696-e033-4b55-d148-43c73adca57b"
   },
   "outputs": [
    {
     "data": {
      "text/plain": [
       "' Home | North South University NSU Ranked #1 In Bangladesh with the following international university ranking agencies 1. Times Higher Education (THE): 2023 (Public/Private Universities) 2. QS World University Ranking: 2022, 2021, 2020 (Private) 3. QS Asia University Ranking: 2023, 2022, 2021, 2020, 2019 (Private) 4. Webometrics University Ranking: 2022 (Private) Undergraduate Study Graduate Study Research Notice 05/04/2023 04/04/2023 27/03/2023 14/03/2023 13/03/2023 '"
      ]
     },
     "execution_count": 9,
     "metadata": {},
     "output_type": "execute_result"
    }
   ],
   "source": [
    "for data in nsu(['style', 'script', 'a', 'footer', 'nav']):\n",
    "  # Remove tags\n",
    "  data.decompose()\n",
    "\n",
    "data = nsu.get_text()\n",
    "data = data.replace(\"\\n\", \" \")\n",
    "#data = nsu.findAll('p')\n",
    "data = re.sub(' +',' ',data)\n",
    "\n",
    "data"
   ]
  },
  {
   "cell_type": "markdown",
   "metadata": {
    "id": "b7B-zzkk0EHB"
   },
   "source": [
    "Creating a new list for all data of different website pages"
   ]
  },
  {
   "cell_type": "code",
   "execution_count": 10,
   "metadata": {
    "colab": {
     "base_uri": "https://localhost:8080/",
     "height": 81
    },
    "id": "-V8uj_7SzFvo",
    "outputId": "09ceca5a-41ae-47cc-e1d1-1056bf6d969f"
   },
   "outputs": [],
   "source": [
    "website_data = pd.DataFrame({'address': ['http://www.northsouth.edu/'],\n",
    "                             'title': ['Home | North South University'],\n",
    "                             'data': [data]})\n",
    "#website_data[data].replace(\"\\n\",\" \")\n",
    "website_data\n",
    "\n",
    "#website_data.to_csv('scrapper_data.csv', mode='w', index=False, header=False)\n",
    "website_data.to_csv('scrapper_data.csv', mode='w', index=False)"
   ]
  },
  {
   "cell_type": "markdown",
   "metadata": {
    "id": "g4NwQMai6sLi"
   },
   "source": [
    "Interlink and External Link seperated into their own list"
   ]
  },
  {
   "cell_type": "code",
   "execution_count": 11,
   "metadata": {
    "id": "SOJvOU6837V7"
   },
   "outputs": [],
   "source": [
    "internal_link_list = []\n",
    "external_link_list = []\n",
    "\n",
    "for item in links:\n",
    "  if \"http\" in item:\n",
    "    external_link_list.append(item)\n",
    "  elif \"#\" in item:\n",
    "    continue\n",
    "  elif \"pdf\" in item:\n",
    "    continue\n",
    "  else:\n",
    "    internal_link_list.append(item)\n"
   ]
  },
  {
   "cell_type": "markdown",
   "metadata": {
    "id": "WNoyIyTs6zTL"
   },
   "source": [
    "Adding full address to all internal links"
   ]
  },
  {
   "cell_type": "code",
   "execution_count": 12,
   "metadata": {
    "colab": {
     "base_uri": "https://localhost:8080/"
    },
    "id": "FAmOkNvY6yv3",
    "outputId": "82c7d362-a7d5-49da-c33d-63d4d8e2907f",
    "scrolled": true
   },
   "outputs": [
    {
     "name": "stdout",
     "output_type": "stream",
     "text": [
      "95\n"
     ]
    }
   ],
   "source": [
    "internal_link_list_full = []\n",
    "for item in internal_link_list:\n",
    "  temp = \"http://www.northsouth.edu/\" + item\n",
    "  internal_link_list_full.append(temp)\n",
    "\n",
    "print(len(internal_link_list_full))\n"
   ]
  },
  {
   "cell_type": "markdown",
   "metadata": {
    "id": "Ypi0xqC4I6Xf"
   },
   "source": [
    "Getting All Links"
   ]
  },
  {
   "cell_type": "code",
   "execution_count": 13,
   "metadata": {
    "id": "RFs5mlcw3OEn"
   },
   "outputs": [],
   "source": [
    "# def get_links_from_list(url_list, temp_url_list):\n",
    "#   for url in url_list:\n",
    "#     headers = {\"User-Agent\":\"Mozilla/5.0\"}\n",
    "#     # start session and get the search page\n",
    "#     session = requests.Session()\n",
    "#     response = session.get(url)\n",
    "\n",
    "#     # parse the search page lxml\n",
    "#     data = soup(response.content, 'lxml')\n",
    "#     #print(\"Accessing URL -------------------------- \" + tag)\n",
    "    \n",
    "#     for link in data.find_all('a'):\n",
    "#       if 'href' in link.attrs:\n",
    "#           temp = link.attrs['href']\n",
    "#           #print(\"Url Found - \" + temp)\n",
    "#           if \"http\" in temp:\n",
    "#             continue\n",
    "#           elif \"#\" in temp:\n",
    "#             continue\n",
    "#           elif \"pdf\" in temp:\n",
    "#               continue\n",
    "#           elif \"//\" in temp:\n",
    "#             continue\n",
    "#           elif \"gmail\" in temp:\n",
    "#             continue\n",
    "#           elif \"mailto\" in temp:\n",
    "#             continue\n",
    "#           elif \"jpg\" in temp:\n",
    "#             continue\n",
    "#           elif \"jpeg\" in temp:\n",
    "#             continue\n",
    "#           elif \"png\" in temp:\n",
    "#             continue\n",
    "#           elif \"doc\" in temp:\n",
    "#             continue\n",
    "#           elif \"docx\" in temp:\n",
    "#             continue\n",
    "#           elif \"xls\" in temp:\n",
    "#             continue\n",
    "#           elif \"pptx\" in temp:\n",
    "#             continue\n",
    "#           elif \"~\" in temp:\n",
    "#             continue\n",
    "#           elif \"http://www.northsouth.edu/\" + temp in temp_url_list:\n",
    "#             continue\n",
    "#           else:\n",
    "#             #print(\"Appending Link ----- http://www.northsouth.edu/\" +temp)\n",
    "#             temp_url_list.append(\"http://www.northsouth.edu/\" + temp)\n",
    "#             with open(csv_name,'a') as fd:\n",
    "#               fd.write(\"http://www.northsouth.edu/\" + temp + \"\\n\")  \n",
    "\n",
    "#   print(\"def get links from list temp list size\")\n",
    "#   print(len(temp_url_list))"
   ]
  },
  {
   "cell_type": "code",
   "execution_count": 14,
   "metadata": {
    "colab": {
     "base_uri": "https://localhost:8080/"
    },
    "id": "-IsfRVOfe8v9",
    "outputId": "d0619939-3b6c-475e-b59e-95773929dc01"
   },
   "outputs": [],
   "source": [
    "# Getting links from the links in internal links list\n",
    "# temp_url_list_1 = []\n",
    "# temp_url_list_2 = []\n",
    "\n",
    "# get_links_from_list(internal_link_list_full, temp_url_list_1)\n",
    "# get_links_from_list(temp_url_list_1, temp_url_list_2)"
   ]
  },
  {
   "cell_type": "code",
   "execution_count": 15,
   "metadata": {},
   "outputs": [],
   "source": [
    "def get_links_from_url(url_list, temp_url_list):\n",
    "  for url in url_list:\n",
    "    headers = {\"User-Agent\":\"Mozilla/5.0\"}\n",
    "    # start session and get the search page\n",
    "    session = requests.Session()\n",
    "    response = session.get(url)\n",
    "\n",
    "    # parse the search page lxml\n",
    "    data = soup(response.content, 'lxml')\n",
    "    \n",
    "    for link in data.find_all('a'):\n",
    "      if 'href' in link.attrs:\n",
    "          temp = link.attrs['href']\n",
    "          \n",
    "          if \"http\" in temp:\n",
    "            continue\n",
    "          elif \"#\" in temp:\n",
    "            continue\n",
    "          elif \"pdf\" in temp:\n",
    "              continue\n",
    "          elif \"//\" in temp:\n",
    "            continue\n",
    "          elif \"gmail\" in temp:\n",
    "            continue\n",
    "          elif \"mailto\" in temp:\n",
    "            continue\n",
    "          elif \"jpg\" in temp:\n",
    "            continue\n",
    "          elif \"jpeg\" in temp:\n",
    "            continue\n",
    "          elif \"png\" in temp:\n",
    "            continue\n",
    "          elif \"doc\" in temp:\n",
    "            continue\n",
    "          elif \"docx\" in temp:\n",
    "            continue\n",
    "          elif \"xls\" in temp:\n",
    "            continue\n",
    "          elif \"pptx\" in temp:\n",
    "            continue\n",
    "          elif \"~\" in temp:\n",
    "            continue\n",
    "          \n",
    "          else:\n",
    "            temp_url_list.add(\"http://www.northsouth.edu/\" + temp)\n",
    "\n",
    "\n",
    "  print(\"def get links from list temp list size\")\n",
    "  print(len(temp_url_list))"
   ]
  },
  {
   "cell_type": "code",
   "execution_count": 18,
   "metadata": {},
   "outputs": [
    {
     "name": "stdout",
     "output_type": "stream",
     "text": [
      "def get links from list temp list size\n",
      "733\n",
      "def get links from list temp list size\n",
      "2007\n"
     ]
    }
   ],
   "source": [
    "# Getting links from the links in internal links list\n",
    "temp_url_set_1 = set()\n",
    "temp_url_set_2 = set()\n",
    "\n",
    "get_links_from_url(internal_link_list_full, temp_url_set_1)\n",
    "get_links_from_url(temp_url_set_1, temp_url_set_2)"
   ]
  },
  {
   "cell_type": "code",
   "execution_count": 19,
   "metadata": {
    "colab": {
     "base_uri": "https://localhost:8080/"
    },
    "id": "2IlyZFd0wijZ",
    "outputId": "ec855b3f-b023-4c09-9f04-9000db8d17da",
    "scrolled": true
   },
   "outputs": [
    {
     "name": "stdout",
     "output_type": "stream",
     "text": [
      "733\n",
      "2007\n"
     ]
    }
   ],
   "source": [
    "print(len(temp_url_set_1))\n",
    "print(len(temp_url_set_2))"
   ]
  },
  {
   "cell_type": "code",
   "execution_count": 22,
   "metadata": {
    "colab": {
     "base_uri": "https://localhost:8080/",
     "height": 235
    },
    "id": "I0BNDvLCA9PX",
    "outputId": "9e16696d-6bfd-42e8-d518-6f49ffde5d7f",
    "scrolled": true
   },
   "outputs": [
    {
     "name": "stdout",
     "output_type": "stream",
     "text": [
      "Accessing URL -------------------------- http://www.northsouth.edu/faculty-members/shss/pss/?page=3\n",
      " Center of Excellence in Higher Education The First Private University in Bangladesh Department of Political Science & Sociology - Faculty Members Lecturer (On Leave) Master of Culture Health and Medicine, Australian National University, Australia MSS in Anthropology, Jahangirnagar University, Bangladesh \t Lecturer M.A., Simon Fraser University, Canada B.Sc., Quest University Canada, Canada \t LecturerM.A., Swansea University, UK \t Professor (Part Time Faculty) Ph.D., University of Delhi, India M.Sc., London University, UK \t Professor (Part Time Faculty)Ph.D., University of Pune, India M. Phil, University of Bergen, Norway \t Professor (Part Time Faculty) Ph.D., University of Aix- Marseille lll, France M.A., Dalhousie University, Canada \t Professor (Part Time Faculty) PhD., Durham University, UK M.Sc., University of Birth, UK \t Professor (Part Time Faculty) M.Sc., London School of Economics, UK \t Professor (Part Time Faculty) Ph. D., Macquarie University, Australia MS., New South Wales University, Australia \t Professor (Part Time Faculty) Ph. D., Hiroshima University, JP \t Professor (Part Time Faculty) Ph. D., University Bergen, Norway \t Associate Professor (Part Time Faculty) Ph.D., The University of Sydney, AUS \t Associate Professor (Part Time Faculty) Post Graduate Diploma Institute of Social Studies, Netherlands M.Phil., University of Bergen, Norway \t Associate Professor (Part Time Faculty) M Phil University of Bergen, Norway \t \n",
      "Accessing URL -------------------------- http://www.northsouth.edu/nsu-announcements/mba-mid20112016.html\n",
      " Center of Excellence in Higher Education The First Private University in Bangladesh \n",
      "Accessing URL -------------------------- http://www.northsouth.edu/faculty-members/shss/history-philosophy/md.-ezazul-karim.html\n",
      " Center of Excellence in Higher Education The First Private University in Bangladesh Md. Ezazul Karim Full Time FacultyLecturer   M.A., University of Oklahoma, USA Phone:Email: ezazul.karim@northsouth.eduOffice:   Curriculum Vitae   Md. Ezazul Karim is the Lecturer of Philosophy at the Department of History and Philosophy, in the School of Humanities and Social Sciences.   Books: Karim, Md. Ezazul. (2021). Aurora. Gyankosh Publications Ltd. Dhaka, Bangladesh, 1205. Karim, Md. Ezazul. (2020). The Ascend. Gyankosh Publications Ltd. Dhaka, Bangladesh, 1205.   Journal Articles:  Karim, Md. Ezazul. Solutions to the Problems Concerning Descartes’ Interactionism. International Journal of Social Science Studies. Volume 8, Issue 4. July, 2020, PP. 95-101.  DOI:  Karim, Md. Ezazul. Response against Ryle’s Myth of Volition. Journal of Arts and Humanities. Volume 9, Issue 3. March, 2020, PP. 86-91.  DOI:  Karim, Md. Ezazul. Bad Action being Moral due to Necessary Evil. Journal of Arts and Humanities. Volume 9, Issue 2. February, 2020, PP. 127-132.  DOI:   Karim, Md. Ezazul. Can Implies Should if Justified Entailing the Proper Way. The Jahangirnagar Review: Pact-C, Volume 30, 2021, PP. 499-507.    Karim, Md. Ezazul. The Critical Evaluation of the Different Theories of Punishment. The Jahangirnagar Review: Pact-C, Volume 29, 2019, PP. 471-489.      Awards: Full Tuition Weaver, University of Oklahoma  Dr. Abdul Jalil Miah Memorial Gold Medal, University of Dhaka  Dean’s Merit List of Honor Award, University of Dhaka   Certificates:    Mentoring Undergraduates; Centre for Faculty Excellence (CFE), University of Oklahoma.  Pedagogy Training: Constructing Syllabus; Department of Philosophy, University of Oklahoma.  Professional Ethics Training; Human Resource (HR), University of Oklahoma.  Management Training; Human Resource (HR), University of Oklahoma.                                                     Statement of Accomplishments:     ; The University of Edinburgh. ; The University of Edinburgh. ; Ludwig-Maximilians-Universität München (LMU). ; National University of Singapore. ; University of London. ; University of California San Diego. ; Mt. San Jacinto College. ; The University of Melbourne.   Master of Arts in Philosophy, University of Oklahoma Master of Arts in Philosophy, University of Dhaka Bachelor of Arts with Honors in Philosophy, University of Dhaka Lecturer of Philosophy, Department of History and Philosophy, NSU Canvas Coordinator, Designer & Trainer, Department of History and Philosophy, NSU  Worked as the head instructor for the term of 2019-2020 at the University of Oklahoma, Department of Philosophy.  Worked as an instructor for the term of 2018-2019 at the University of Oklahoma, Department of Philosophy.    Guest speaker at Standford University Bangladesh, on November 2017. PHI 101 Introduction to PhilosophyPHI 104 Introduction to EthicsPHI 201 Ethical TheoryPHI 401 Business Ethics Applied Ethics Political Philosophy Metaphysics  \n",
      "Accessing URL -------------------------- http://www.northsouth.edu/research-office/research-projects/ctrg-2018-2019-research-grant.html\n",
      " NSU Funded Research Projects: 2018-2019 NSU Funded Research Projects: 2018-2019 Sl. Name/PI School Department Title of the Project Status 01 SBE Marketing & International Business An Investigation of Parental Perception of Children’s Inappropriate Behavior: The Role of Internet. Completed 02 SHLS Biochemistry & Microbiology Demonstration of Diversity and Relative Abundance of the Pathogenic Microbial Community in Diarrheal Stool Specimen From Clinical Setting using 16s Metagenomics. Completed 03 SHLS Pharmaceutical Sciences Screening of Genetic Biomarkers for Diagnosis and Prognosis for Lung Cancer in Bangladeshi Patients. Completed 04 SHLS Pharmaceutical Sciences Evaluation of plant leaf Extracts for their Ability to Ameliorate Metabolic Syndrome Related Complications by Controlling Gene Expression of Related Proteins. Completed 05 SHLS Pharmaceutical Sciences Modulation of Mitochondrial Energetics may Alter the Deleterious Effect in Heart Received stimulated beta Adrenergic Signal. Completed 06 SHSS Political Science & Sociology Mindless Propaganda or Thoughtful Persuasion? Television Commercials and broadcast regulations in Bangladesh. Completed 07 SBE Marketing & International Business Value co-creation in base of pyramid (BOP) marketplace: exploring the dyadic relationship between service providers and beneficiaries. Completed 08 SBE Marketing & International Business The Role of Individualism and Collectivism on Organizational Rule Breaking Behaviors in Public Space: A Study on Corporate Citizenship in Bangladesh. Completed 09 SEPS Electrical & Computer Engineering Light based Sorting of Biological, Chiral, Plasmonic and Neutral objects in Aqueous Solution. Completed 10 SHSS Political Science & Sociology Predictors and Consequences of Elder Abuse in Bangladesh: In Search of Policy Implications Completed 11 SHLS Biochemistry & Microbiology Developing an Integrative Approach for Monitoring Toxic Cyanobacteria Blooms to Prevent Fish and Wildlife Deaths in the Sunamganj Haor Regions of Bangladesh. Completed 12 SHLS Pharmaceutical Sciences Effect of Apocynin on Oxidative Stress, Fibrosis, and Myocardial Damage in Isoproterenol Induced Rats. Completed 13 SHLS Pharmaceutical Sciences Acetylcholine Esterase Inhibitor Rosmarinus Acid, Improves Cholinergic-Dependent Memory in D-galactose Induced Aging Mice Model: An Effective Treatment Approach for Alzheimer Disease. Completed 14 SHLS Pharmaceutical Sciences Clinical Investigation of Serum Trace Elements, Immunoglobulins, Antioxidants and Genetic. Completed 15 SHLS Pharmaceutical Sciences Role of Inositol foe the Prevention of Ischemic Stroke. Completed 16 SHLS Public Health Prenatal, Perinatal and Postnatal Determinants of Autism Spectrum Disorder (ASD): A Case-Control Study. Completed 17 SHLS Pharmaceutical Sciences Nano Drug delivery of Aphanamixis polystachya leaf extracts and its neuropharmacological activity in mice model Completed 18 SEPS Mathematics & Physics Numerical Methods for Models Reduction of Index-2 Periodic Descriptor Systems with Application to Circuit Simulation Completed 19 SBE Marketing & International Business Corporate Customers’ Reaction to Post- M&A Integration in Banking Sector: Evidence from the Indian Banking Industry. Completed 20 SHLS Biochemistry & Microbiology Whole Genome Sequencing and comparative genomics analysis of Acinetobacter spp. Isolated from Dhaka, Bangladesh. Completed 21 SHLS Biochemistry & Microbiology Establishing Silkworm Larvae as an Animal Model to Study Pathogenic Bacteria Isolated in Bangladesh. Completed 22 SHLS Biochemistry & Microbiology Genetic Characterization of Bangladesh rice germplasms and improved lines for phosphorus deficiency tolerance. Completed 23 SBE Management Measuring the Gains from Trade in Market for Decentralized Renewable Energy. Discontinued 24 SEPS Civil & Environmental Engineering The Impacts of Partial Relocation of Hazaribagh Leather Processing Industries on the Environment and Human Health: Focus on Children and Vulnerable Population. Completed 25 SBE Accounting & Finance Fama-French Five- Factor Asset Pricing Model: An Examination of the Validity of the Model in Bangladesh. Ongoing 26 SHLS Biochemistry & Microbiology Molecular mechanism of multidrug resistance in hyper mutable bacteria isolated from ICU patients Completed 27 SBE Economics Solar Energy Access in Rural Off-Grid Areas of Bangladesh: Determinants and Impacts. Completed 28 SEPS Mathematics & Physics Blood Flow Dynamics during Dengue Hemorrhagic Shock. Completed 29 SBE Management Identification of bottlenecks of the traffic congestion in Dhaka City and development of proper measures for its improvement. Discontinued 30 SEPS Mathematics & Physics Transition to Turbulent Non-Newtonian Fluid Flow Simulation using High- Performance. Completed 31 SEPS Civil & Environmental Engineering A Study ob Subsidence and Erosion Flood Protection Embankment in the Coastal Area of Bangladesh. Completed 32 SHSS Political Science & Sociology E-service delivery of the Public Sector and Citizen Engagement in Bangladesh. Completed 33 SEPS Electrical & Computer Engineering Cost-Effective Deployment of IoT/Al in our Ready-Made Garments (RMG) Industry. Ongoing 34 SHLS Environmental Science & Management Historical satellite image classification to assess the trends of ecosystem properties and carbon stock and predict future land cover in the northeastern forests of Bangladesh. Completed 35 SHLS Pharmaceutical Sciences Study of multiple antibiotic resistance patterns and genes from clinical isolates for effective treatment/therapy. Completed 36 SBE Management Ethical Dilemma in Bangladeshi Garments Sector: Safety Initiative by Accord/Alliance. Completed 37 SEPS Electrical & Computer Engineering Development and Implementation of Machine Learning Based Model on Predicting Climate Change Induced Stress on Resources of Coastal Areas of Bangladesh. Completed 38 SHLS Biochemistry & Microbiology A Potential Cohort Study on Insulin Receptor Substrate-1 (IRS-1) Gene Polymorphisms in Type 2 Diabetes Mellitus Patients in Bangladesh. Completed 39 SHLS Pharmaceutical Sciences Anti-Nociceptive effect of panch phoron in postoperative pain. Completed Updated on 30 November 2021 \n",
      "Accessing URL -------------------------- http://www.northsouth.edu/nsu-announcements/exit-exam-222.html\n",
      "Accessing URL -------------------------- http://www.northsouth.edu/sipg/admission-information.html\n",
      " TOEFL- Minimum score acceptable: 550/213 (paper-based) IELTS- Minimum score acceptable: 6.0 Language proficiency requirement is not mandatory but can add extra value for admission. The requirement for Self-Financed Candidates: At least a bachelor or equivalent degree; Tuition and other fees are applicable as per NSU rules. ADMISSION FOR MPPG One intake each year. Admission circular is given usually in websites and daily newspapers (The Daily Star, Daily Prothom Alo); 12 students (9 from Bangladesh, 2 from Nepal and 1 from Sri Lanka) are taken in each batch; Eligible candidates are career civil servants, executives from NGOs, academics, and researchers. Fresh graduates can apply only in self-finance category; A written admission test is taken on English, General Knowledge, Analytical Skills and Basic Mathematics (total 80 marks); A viva-voce exam (total 20 marks) is taken for the selected candidates in the written test; The Viva board usually consists of representatives from each partner institution of Norway, Bangladesh, Nepal, and Sri Lanka. Admission Timelines (Tentative): Admission Circular: December Application: December-January Written Test: February Viva-Voce: February Final Selection: February Submission of Leave Approval: April Class Starts: April Admission Guideline:   ADMISSION REQUIREMENTS for Executive Masters in Policy and Governance (EMPG) New students are admitted to the program two times a year (in Spring and Fall). Applications must be submitted within the deadline announced for the semester of intake.  All admission queries should be directed to the SIPG Program Office.  To be eligible to apply for admission a candidate will require: Must have a Bachelor degree from any recognized university in Bangladesh or abroad; At least second class (or CGPA 2.75 on a 4 points scale) in all exams  The final admission decision is taken based on the following: Past academic performance (at high school, college, and university levels). Scores of interviews will be administered by NSU. Interview with the Admission Committee. A complete application will include: A graduate application form will be completed and signed Candidates five passport-sized signed photographs and National ID. Parents passport-sized signed Photographs and National ID Photocopy. One set of photocopies of all previous certificates and transcripts (mark sheets), notarized or attested. Incomplete or improper attestation will deem the application void. STRUCTURE OF EMPG Degree awarded by North-South University, Dhaka, Bangladesh; Two semesters (6 months/each); The medium of instruction is English; Six core courses and 6 specialized courses (each of 3 credits); Development and submission of a practicum for 3 credits, Total 36 credits are required for awarding the EMPG degree. \n",
      "Accessing URL -------------------------- http://www.northsouth.edu/dept-notices/notice-board-cee/competition-exceed-2018-sust.html\n",
      " NSU’s Civil & Environmental Engineering Team Wins Prestigious Truss Bridge Design Competition at SUST 11th October, 2018 NSU’s Civil & Environmental Engineering Team Wins Prestigious Truss Bridge Design Competition at SUST A two-member student team of the Department of Civil and Environmental Engineering (DCEE) of North South University has won the first place in “Truss Bridge Design” competition at the “ExCEEd 2018-SUST CEE Festival” held on Tuesday, October 11, 2018 at Shahjalal University of Science and Technology (SUST), Sylhet. The winning team comprised of DCEE students Md Atiqul Islam and Samira Tasnim Tamanna. It is noteworthy that the ExCEEd 2018-SUST CEE Festival was organized by the Department of Civil and Environmental Engineering of SUST. “EXCEED 2018 - SUST CEE FESTIVAL” is a civil engineering festival held on a national scale where numerous undergraduate students of different universities across Bangladesh participate in few very competitive competitions. The festival created a platform to share ideas among students of different universities and institutions. One of the major competitions was the “Truss Bridge Design”. The DCEE, NSU team won the prestigious first place in that competition with a surprising large margin. The DCEE, NSU family proudly extended sincere congratulation to the two members of the wining team - Mr. Md Atiqul Islam and Ms. Samira Tasnim Tamanna. In Figure from left: Earthquake Specialist Prof. Dr. Mehedi Ahmed Ansary of BUET, Vice Chancellor of SUSTProf. Farid Uddin Ahmed, Head of Department of CEE (SUST), Dr. Muhammad Azizul Hoque, and the DCEE NSU winners Samira and Atiqul \n",
      "Accessing URL -------------------------- http://www.northsouth.edu/nsu-facilities/\n",
      " Center of Excellence in Higher Education The First Private University in Bangladesh NSU Student Facilities Student Lounge The Student Boy's Lounge is a comfortable area open to students for gathering, studying, and relaxing between classes. The Lounge is equipped with comfortable furniture and TV. Study Hall Student's Presences at Study Hall (2nd floor of library building)Quiet Study Hall at NSU Library Medical Center NSU has a medical center which is located at 4th floor SAC Building to provide the medical facilities to the students, teachers and others. List of services are as below: Medical consultation and refer patients to specialize doctor as and when required.   First Aid treatment to all NSU employees. Emergency management of the patient and evacuate to the nearest hospital if required by NSU Ambulance. Supply of emergency medicine to patients in case of emergency. Ensure proper nursing to patients when needed. Check and verify medical documents of students for semester drop and refund. Check and verify medical documents of officials and staff of NSU. Attend emergency patients within the NSU Campus as and when required. Contact with the Medical Officer for further details information. Dr. Ahmad Munir Hussainr Medical Officer Dr. Lubna Mariam Medical Officer NSU Sports & Fitness Center NSU Sports & Fitness Center with Multipurpose Gym, Basketball Court & Gallery located at student amenities area for students, faculty and staff members. The Sports & Fitness Center are staffed with trained Fitness Associates and Fitness Supervisors to ensure the safety of participants and assist in basic exercise selection or performing exercise that may need to be spotted. Prayer Room Prayer room facility is available for both male and female student besides their respective study hall   Cafeteria NSU has huge cafeteria area. NSU cafeteria serves Bangle, Chinese and fast food. It maintains high quality of food with affordable cost. It also maintains cleanliness and food hygiene.   Recreation Center      The NSU Recreation facility serves the purpose for students’ entertainment and physical workout. Currently it provides with table tennis and other game activities. Open Auditorium All year round in different events take place in NSU’s Open auditorium.  It  has a spacious stage with latest technology. Open Play Ground ATM Booth Parking Facility About Us The North South University-Student Counseling Center (NSU-SCC), under the Office of the Pro Vice Chancellor, functions under the stewardship of Director Mrs. Fariha Harun. It is a support system for the students of the University, and addresses their emotional well being. It serves as a primary mental health care unit, and as such it offers talking therapy and advice for further referrals. It has no jurisdiction over the academic and administrative affairs of the University. For appointments, current students can self-refer, or be referred via Faculty, family, and other NSU students by mailing requests to with full name, NSU ID, NSU email, and a valid phone number of the client. The NSU-SCC offers one to one or group sessions for the students and if necessary, with  related persons. It has 5 counselors, specialising in Psychosocial, Counseling, and Clinical Psychology. The counselors and students/clients must maintain confidentiality. However, in situations such as suicide, sexual harassment, and drug abuse, SCC has to protect the liability of the university, and act accordingly.   For more specific queries, students can mail- Designation Name E-mail Student Counselor counselling support Md. Shaphawat Hossain Assistant Student Counselor counselling support Masuma Akter Sumi Assistant Student Counselor clinical support Saidul Islam Assistant Student Counselor clinical support Rima Saha   Address: Level-4, Admin Building Student Counseling Center North South University             Services   Awareness raising program through motivation enhancing workshop Individual Counseling/Psychotherapy (One to One Contact) Couple Counseling/Therapy (Two persons contact with one counselor/therapist) Family Counseling/Therapy (Two or more family members contact with one counselor/therapist) Group Therapy Psychiatric referral service (when medication is essential) Psychological Life Skill Training Skill training on controlling emotion Up Comming Events Date: November 24 2016Date: November 17 2016 Office Hours   Sunday: 9 am to 9:30 pm Monday: 9 am to 8 pm Tuesday to Thursday: 9 am to 5 pm Photo Gallery Service Feedback Contact Us To make an appointment or any kind of information please call- 55668200  Ext-1220 ( )  Ext. 1221 ()  Ext. 1245 (Md. Shaphawat Hossain)  Office: Admin Building, Level 4 Open Gallery Campus Security North South University's (NSU) campus security team is a crucial part of the university. From the watchmen to a professional law enforcement official, they all work fastidiously to ensure campus security. NSU has an exemplary security service with 170 CCTV cameras stationed within and across the university borders. NSU Book Shop NSU Book Shop is located in admin building (besides information desk) People     Md. Shaphawat Hossain Assistant Student Counselor Md. Shaphawat Hossain, working as an Assistant Student Counselor in student Counseling center, North South University. He is an International Certified Addiction Professional, ICAP-1, ICCE, The Colombo Plan. He is a Master trainer of Addiction. He has completed his Professional counseling degree from University of Dhaka. He is working in this field since 2008. He is interested to work with Substance Abuse Related areas, relationship issues, General Anxiety & stress.   \n",
      "Accessing URL -------------------------- http://www.northsouth.edu/faculty-members/shss/pss/dr.-mohammad-jalal-uddin-sikder.html\n",
      " Center of Excellence in Higher Education The First Private University in Bangladesh Dr. Mohammad Jalal Uddin Sikder Full Time Faculty Assistant Professor PhD in Sociology, Monash University, AustraliaMA in Development Studies, University of Leeds, UK Phone: +880-2-55668200 Ext: 6156 Email: jalal.sikder@northsouth.edu Office: Curriculum Vitae   Mohammad Jalal Uddin Sikder is an Assistant Professor in Sociology at the Department of Political Science and Sociology, North South University (NSU), Bangladesh. Prior to joining at NSU, he worked as an Associate Professor at the Department of Development Studies, Daffodil International University (DIU) and General Education Department (GED), University of Liberal Arts Bangladesh (ULAB). He also engaged as an Adjunct Senior Research Fellow at the Refugee and Migratory Movements Research Unit (RMMRU), a research centre which conducts research on refugees, internally displaced persons, stateless people, labour migrants and diaspora communities. He is the author of several books and articles that have been published by reputable international publishers. He had also been involved in a number of studies under the Migration out of Poverty RPC and Development Research Centre (DRC), University of Sussex, UK. Sikder was a recipient of the NTS-Asia Research Fellowship from Nanyang Technological University, Singapore. Mr. Sikder has over 20 years of empirical research, 10 years of teaching, and 8 years of professional experience as a Monitoring, Evaluation, Research, and Learning Expert with the Swiss Agency for Development and Cooperation (SDC) in Bonn, the Foreign Commonwealth and Development Office (FCDO)/Department for International Development (DFID)-UK, the British Council, the European Union Delegation (EUD), Deutsche Gesellschaft fur Internationale Zusammenarbeit (GIZ), the United States Agency for International Development (USAID), International Labor Organization (ILO), International Organization for Migration (IOM), US Committee for Refugees, United Nations High Commissioner for Refugees (UNHCR), NORC at the University of Chicago and Solidarity Center-Sri Lanka. Sikder’s research expertise includes internal and international labour migration; modern slavery and labour migration recruitment (OLR) process; returnee migrants' reintegration; remittances, development, dependency and inequality; migration and TVET Skills for employment; forced migration and the situation of the Rohingya (Myanmar) refugees; irregular cross-border migration, human smuggling and trafficking; ready-made garments (RMG), trade Unions and women empowerment; and climate change-induced migration, urban resettlement and livelihood.  Sikder is a guest editor for the Journal of Frontiers in Human Dynamics and an external reviewer for the Journal of Migration and Development, Asian Pacific Migration Journal, Journal of Borderland Studies, Journal of Immigration and Refugee Studies, book reviewer for Palgrave MacMillan, India, and Advisory Editor for Migration Mirror, RMMRU's quarterly newsletter. Sikder has also presented papers at national and international workshops, conferences, and seminars in countries such as Australia, Bangladesh, England, India, Spain, Qatar, South Africa, Sri Lanka, South Korea, Switzerland, the Philippines, and the United States. He is a television personality who regularly appears on talk shows to address migration and refugee issues. Sikder served as President of the Monash University Islamic Society (MUIS) (2011-2012); HUMCASS Representative (2009-2010), and Gippsland Association for Postgraduate Students (GAPS), Monash University, Australia; Co-ordinator, Young Researcher Forum (YRF), University of Dhaka, Bangladesh; Member, South Asian Migration Resource Network (SAMReN); Member, Leeds University Alumni, UK; Member, Dhaka University Alumni, Bangladesh; and Member, Rotary Club of Baridhara., Bangladesh. Books 2017 Sikder, Mohammad J.U., Higgins, Vaughan, and Ballis, Peter. Remittance Incomes and Social Resilience among Migrant Households in Rural Bangladesh, Publisher: New York: Palgrave MacMillan. [ISBN 978-1-137-57771-9]. 2014 Siddiqui, Tasneem and Sikder, Mohammad J.U. Mirgianlised of Migration: A Study of Domestic Workers and Rickshaw pullers in Dhaka. Publisher: Dhaka: RMMRU. [ISBN 978-1-137-57771-9]. 2022 (in Press) Siddiqui, Tasneem, Sikder, Mohammad J.U, Mcphee, S. and Hiley, S. Rural-urban Migration on Development: The Case of the Garments Workers of Dhaka Publisher: Dhaka: RMMRU. Book chapters 2022 Siddiqui, T., Sikder, Mohammad J.U. and Bhuiyan. R. A.2020 ‘Climate Change and Migration in Bangladesh: Vulnerability in Urban Locations’ in Eriksen, T.S, Susan, H. & Mendes, P. Cooling Down: Local Response to Global Climate Change, New York: Berghahn, [ISBN  978-1-80073-189-9] 2021, Sikder, Mohammad J.U. and Alam, S.B. 'Securities and Insecurities upon Return During COVID-19’ in Siddiqui, T. The Other Face Globalisation: COVID-19, International Labour Migrants and Left-behind Families in Bangladesh, Bangladesh Civil Society for Migrants (BCSM) and Refugee and Migratory Movements Research Unit (RMMRU). [ISBN: 978-984-34-9977-6] 2021, Sikder, Mohammad J.U. International Labour Migration from Bangladesh: Risk Protection and Policy in Forum Asia and Law & Society Trust (ed) South Asia Judicial Barometer, Bangkok: Forum Asia. [ISBN : 978-955-1302-94-8] 2020 Rashid. R. S., Sikder, Mohammad, J. U and Hossian, Emran. The Unequal Landscape of Remittances: The Case of Rural Bangladesh’ in Rajan S. Irudaya (ed) South Asia Migration Report 2020: Exploitation, Entrepreneurship and Engagement, Publisher: London: Routledge [ISBN 9780367337179]. 2017 Rozana, Rashid and Sikder, Mohammad, J. U. ‘Intra-household Dynamics of Remittance Practices: A Case Study of Bangladesh’ in Rajan S. Irudaya (ed) South Asia Migration Report 2017: Recruitment, Remittances and Reintegration, Publisher: London and New York: Routledge. p. 209-229 [ISBN 978-1-138- 03823-3]. 2009 Siddiqui, Tasneem and Sikder, Mohammad J.U. Rural to Urban Migration for Domestic Work in Bangladesh’ in Seeley, Janet and Abrar, Chowdhury R. (eds) Social Protection and Marginalised Migrant Workers in India and Bangladesh, Publisher: Dhaka: University Press Ltd. p. 57-81. [ISBN 984-70220- 00325].  Journal Articles 2021 Shahi, R., Karim, K. Sikder, M.J.U. and Bansal, V. ‘Shattered Dreams: Bangladeshi Migrant Workers during a Global Pandemic’, Journal of Modern Slavery, Vol. 5. Issue. 2, Available  at: 2022 (submitted) Rozana, Syeda Rashid and Sikder, Mohammad, J. U. ‘Choosing a Life: Remittances and Youth Aspirations in Bangladeshi Villages’, Migration Letter. available at: 2017 Sikder, Mohammad, J. U. & Higgins, Vaughan ‘Remittances and Social Resilience: A Qualitative Study of Migrant Households in Rural Bangladesh’, Migration and Development Journal, Vol. 6, No. 2, P. 253-275 Publisher: London: Routledge. [ISSN-2163-2332, print]. 2013 Sikder, Mohammad J. U. & Ballis, P. H. ‘Remittances and Life Chances: A Study of Migrant Households in Rural Bangladesh’, Migration and Development Journal, Vol. 2, No. 2, p. 261-285, Publisher: London: Routledge. [ISSN-2163-2332, print] 2008 Sikder, Mohammad J. U. ‘Bangladesh: International Labour Migration and Remittances’, Asian and Pacific Migration Journal, Vol. 17, No.3, p. 257-276, Publisher: New York: Sage. [ISSN-0117-1968, print]. 2005 Sikder, Mohammad J. U. ‘Livelihoods, Informal Trade at the Bangladesh Border’, Inter-Asia Cultural Studies, Vol. 6, No. 3, p. 432-445, Publisher: London: Routledge. [ISSN-1464-9373, print] Monographs and Working Papers: 2016 Rozana, Rashid and Sikder, Mohammad, J. U. Choosing a Life: Remittances and Youth Aspirations in Bangladeshi Villages. Publisher: Brighton (UK): Migration out of Poverty RPC, University of Sussex, UK. Link: 2016 Abrar, C. R and Sikder, Mohammad J.U. Cross-border Movement of the Rohingyas from Burma: Exclusion, Vulnerability and Coping Mechanism, Publisher: Sussex: RPC, University of Sussex, UK. 2008 Sikder, Mohammad J. U. ‘Population Movements and the Threat of HIV/AIDS Virus at the Bangladesh-India Border’, Publisher: Singapore: Nanyang Technological University. p. 1-144 [ISBN 978- 981-08-1289-8]. 2004 Sikder, Mohammad J. U. ‘Border Livelihood and Informal Trade’, Occasional Paper No. 10, Dhaka: RMMRU. p. 1-75. Conference Proceedings  2006 Siddiqui, T. and Sikder, Mohammad J. U. ‘Livelihood of Internal Migrants’, published in an international conferences on Marginsalised Migrant Workers and Social Protection, held on 7-8 October, 2006, Dhaka, Bangladesh, organised by RMMRU and DRC, University of Sussex, UK. 2006 Sikder, Mohammad J.U. Informal Trade and Movements of People’ published in an International Workshop on Population Movements: Non-Traditional Issues in South Asia Discourse, held on 21-22 August 2006, Dhaka, Bangladesh, organised by RMMRU, University of Dhaka. 2003 Sikder, Mohammad J. U. ‘Women Participation in Informal Cross-Border Trade’, published in a national conference on Women in Challenging Situation in Bangladesh, held on 23-24 July 2003, Dhaka, Bangladesh, organised by RMMRU, University of Dhaka.  Policy Briefs 2017 Sikder, Mohammad Jalal. Smuggling of Migrants, Trafficking in Persons and Contemporary Forms of Slavery, including Appropriate Identifications, Protection and Assistance to Migrants and Trafficking Victims’ Policy Brief 6, Dhaka: International Organization for Migration (IOM). 2016 Rashid, Sayeda R. and Sikder, Mohammad J. U. Impact of Remittances on Education and Human Resource Development: Evidence from Bangladesh’ Policy Brief 15, Dhaka: RMMRU 2015 Siddiqui, T., Bhuyian, R., Sikder, Mohammad J.U. ‘Climate Change Induced Migration and Urban Informal Settlements’ Policy Brief 8, Dhaka: RMMRU. 2014 Abrar, C., Sikder, Mohammad J.U. and Akhter, Z. ‘Addressing the Plight of the Rohingyas’ Policy Brief 9, Dhaka: RMMRU.  Articles and News letters:  2004 Siddiqui, Tasneem, Sikder, Mohammad J.U. and Haque, Hossainul. ‘Bangladeshi Factory Workers in the Middle Easter Countries’, The Uprooted, Issue 29, July-September. p. 1-4. 2001 Sikder, Mohammad J.U. ‘Cross Border Populations and Illegal Trade’, The Uprooted, Issue 18, October-December, p. 3-4 Scholarships and Grants 11-25 October 2016- Faculty Training Workshop Award, Institute of South Asia, University of California, Berkeley, USA and American Institute of Bangladesh Studies, the US Embassy in Dhaka. Description: This scholarship covers return coach class ticket from Bangladesh to the US, any local travel, airport transfers, as well as lodging at UC  November 2012 – January 2013- Arts Post-graduate Publication Award (PPA), Faculty of Arts, Monash University, Australia. Description: PPA provides a living allowance while writing an article or book, based on a PhD thesis.  2009 – 2012 - Monash International Post-graduate Research Scholarship (MIPRS), Monash Graduate Scholarship (MGS), Monash University Institute of Graduate Research (MIGR), Australia. Description: A 3.6-year PhD scholarship, including tuition fees, a living allowance, health insurance and thesis allowance.  2009 – 2012 - Post-graduate Allowance, SAMSS, Monash University, Gippsland Campus, Australia Description: Dissertation field work, international and local travel and relocation,  2004 – 2005- Post-graduate Support Grant, The Bestway Foundation, Sydney Perry Foundation, Professional Aid Council, Charles Wallace Bangladeshi Trust and Muslim Aid. Description: Grants for pursing a Master’s degree in Development Studies, University of Leeds, UK    Fellowships, Awards and Prizes March, 2010 - Go8 Fellowship, Group of Eight (Go8), a coalition of leading Australian Universities Description: Awarded a prestigious grant to attend a conference on Climate Sciences + Humanities and presented a paper on Climate Change and Migration in Bangladesh, at Harvard University, Cambridge, USA 2007 – 2008 - NTS Research Fellowship, Consortium of Non-Traditional Security in Asia (NTS-Asia), Nanyang Technological University, Singapore. Description: Awarded US$8000 for research on Population Movements and Threat of HIV/AIDS Virus at the Bangladesh-India Border.  2007 – 2008 - Ford Foundation Fellowship, Refugee and Migratory Movements Research Unit (RMMRU), University of Dhaka. Description: Awarded US$8000 to undertake research entitled Informal Border Trade and Movements of People between Bangladesh-India Border.  2011 - Most Outstanding Research Poster 2011, Monash University Gippsland Campus, Australia. Awarded 3rd Prize.  2009 - Most Outstanding Research Poster 2009, Arts Faculty and HUMCASS, Monash University Gippsland Campus, Australia. Awarded 1st Prize (both).  2016 - The Vice Chancellor Award of Excellence 2016 in Engagement in Research, University of Liberal Arts Bangladesh (ULAB). Doctor of Philosophy (PhD) in Sociology – Monash University, Australia. Master of Arts (MA) in Development Studies – University of Leeds, UK. Master of Social Science (MSS) in International Relations – University of Dhaka, Bangladesh. Bachelor of Social Science (BSS) in International Relations – University of Dhaka, Bangladesh. International Diploma in Computer Studies (IDCS) – National Computing Centre (NCC), UK. Current Position  Assistant Professor, Department of Political Science and Sociology, North South University, May, 2022 – till date  Previous Position Associate Professor, Department of Development Studies, Daffodil International University (DIU), Bangladesh, September, 2019 – April, 2022. Associate Professor, General Education Department (GED), University of Liberal Arts Bangladesh (ULAB), February, 2018 – November, 2019. Assistant Professor, General Education Department (GED), University of Liberal Arts Bangladesh (ULAB), August, 2014 – January, 2018. Assistant Professor, Department of Natural Science, Daffodil International University (DIU), Bangladesh, May, 2013 – July, 2014. Adjunct Senior Research Fellow, Refugee and Migratory Movements Research Unit (RMMRU), Bangladesh, May, 2013 – December, 2020. Junior Research Associate, School of Applied Medial and Social Science (SAMSS), Monash University, Australia, November, 2012 – January, 2013. Senior Research Associate, Refugee and Migratory Movements Research Unit (RMMRU), Bangladesh, January, 2006 – February, 2009. Research Associate, Refugee and Migratory Movements Research Unit (RMMRU), Bangladesh, January, 2002 – August, 2004.  Key Expert- Country Manager in a study of Opportunities and Challenges for Establishing Mutual Recognition Agreements (MRA) for Skills recognition and certification between Bangladesh and selected EU Member Countries, commissioned by the EUD through DAI, Belgium. January-May2022. Evaluation Expert on Final Evaluation Final Evaluation of the Prottasha Project: Sustainable reintegration of returnees and the progressive achievement of SDG 10.7, to facilitate orderly, safe, regular and responsible migration and mobility of people, including through the implementation of planned and well-managed policies” in Bangladesh”, commissioned by the EUD through ICE, Belgium. July-December 2021. Lead Researcher-Internal migration on Regional Study on Internal Migration is Asia-Internal Migration Situation in Bangladesh, commissioned by Jan Shahs, India, November- December, 2021. ROM Exert- Trafficking in Persons and the Smuggling of Migrants on Results Oriented Monitoring (ROM) System for External Aid Interventions, Lot 1 – ROM for Asia and Pacific, Latin America, Caribbean, and Centrally Managed Thematic Interventions- ‘Global action to prevent and address trafficking in persons and the smuggling of migrants in Asia and the Middle East (GLO.ACT Asia and the Middle East)’, commissioned by the EUD through KOMIS, Belgium. October-November 2021. Senior Evaluation Specialist on Mid-Term Performance Evaluation of the Workers’ Empowerment and Participation (WEP) Activity, commissioned by USAID through ME&E Inc, Washington D.C. July-Dec 2021. Consultant on International Labour Migration to develop an interactive and dialogical Training Module on Life skills-based pre-decision orientation on safe migration, risk & vulnerabilities, women empowerment, rights & legal support, communication etc, under Promoting Safe Migration for the Women of Bangladesh Project, funded through the Silk Routes Facility, commissioned by CARE Bangladesh. February-March 2021. Consultant on International Labour Migration on Research on GFEMS Overseas Labor Recruitment (OLR) COVID-19 Rapid Assessment, commissioned by National Opinion Research Centre at the University of Chicago, Illinois, USA, July-October 2020. Thematic Specialist on International Labour Migration on The Impact of Circular Migration Schemes on Development Outcomes Rapid Evidence Assessment, commissioned by DFID via IMC World Wide via Tetra Tech International Development Limited, London, UK, April-November, 2020. Sectoral Evaluation Specialist on USAID Bangladesh Monitoring and Evaluation and Learning (BMEL) Activity, commissioned by ME&A Inc., Washington D.C., USA, December 2019-April, 2020. Lead Consultant on International Labour Migration on Research on International Labour Migration in Bangladesh: Risk, Protection and Policy, commissioned by the Forum-Asia and The Law and Society Trust, Bangkok, May 2019-April 2020. National Consultant on Program Design on Response to Economic Vulnerabilities of Rohingya Host Communities for Sustainable Employment, commissioned by International Labor Organization (ILO), Geneva November-December 2019. Lead Researcher on National Strategy on the Management of the Wage Earners Welfare Fund (WEWF) in Bangladesh, commissioned by PROKAS, the British Council Bangladesh, October 2018-January 2019. Regional Consultant on to Evaluate the GPMD’ Migration and Development Engagement on Decent Work in the Middle East, South Asia and Sri Lanka, Contract N°81055549, commissioned by Swiss Agency for Development and Cooperation (SDC), Bern. June-September, 2018. Consultant regarding a Policy Brief on ‘Smuggling of Migrants, Trafficking in Persons and Contemporary Forms of Slavery, including Appropriate Identification, Protection and Assistance to Migrants and Trafficking Victims’, under the IOM Policy Brief on Six Thematic Areas of Global Compact for Safe, Orderly and Regular Migration GCM, Dhaka: International Organization for Migration (IOM), August- October 2017. National Consultant on FWC-Lot-9, “2016/374443 Final Evaluation of the project” Technical and Vocational Education and Training (TVET) Reform in Bangladesh”, EU through the GFA Consulting Group, GmbH, Germany, July-September 2016. Worked as Consultant to write a report on ‘Adaptation Strategies of Poor Urban Migrants in the Context of Climate Change: A Case Study of Informal Settlements in Natore, Sirajgang and Rajshahi’, Commissioned by Deutsche Gesellschaft für Internationale Zusammenarbeit (GIZ), Dhaka Office, August-December 2015. Consultant regarding a nationwide report on ‘Bangladesh: International Migration and Data’, commissioned by the Scalabrini Migration Center (SMC), Manila, the Philippines, February, 2007. Consultant regarding a nationwide report on ‘The presents status of Burmese Rohingya refugees and stranded Biharis in Bangladesh’¸ commissioned by the US Committee for Refugees, Washington, D.C., March, 2007. Consultant regarding a training manual on Training of the Trainers for Capacity Building of Local Opinion Leaders and Journalists for Ensuring Safe Labour Migration’, commissioned by CABSLAM-RMMRU project, funded by the Manoser Jonno, August-December, 2007. North South University, Bangladesh Introduction to Sociology (SOC 101) GED course, Department of PSS, 2022 to date.   Daffodil International Univesity (DIU), Bangladesh DEV 511 - Development Theories, Issues and Strategies DEV 513 - Politics, State and Development DEV 514 - Sociology and Anthropology of Development  DEV 531 - Research Methodology    University of Liberal Arts Bangladesh (ULAB) GED 208 - Introduction to Sociology GED 301 - Development Studies GED 338 - International Relations GED 103 - History of Emergence of Independent Bangladesh GED 100 - Bangladesh Studies     Guest Editor: Journal of Frontiers in Human Dynamics Reviewer: Migration and Development- Francis and Taylor; Asian Pacific Migration Journal- Sage; Journal of Borderland Studies- Francis and Taylor; Journal of Immigration and Refugee Studies- Francis and Taylor; book reviewer for Palgrave McMillan President, Monash University Islamic Society (MUIS) (2011-2012), Monash University, Australia HUMCASS Representative (2009-2010), Gippsland Association for Postgraduate Students (GAPS), Monash University, Australia  Co-ordinator (2006 to till date), Young Researcher Forum (YRF), of the University of Dhaka Member, South Asian Migration Resource Network (SAMReN) :   Member, Leeds University Alumni, UK and Dhaka University Alumni Chartered Member, Rotary International Club of Baridhara, Club ID No. – 72098 Internal and international labour migration; modern slavery and labour migration recruitment (OLR) process; returnee migrants' reintegration; remittances, development, dependency and inequality; migration and TVET Skills for employment; forced migration and the situation of the Rohingya (Myanmar) refugees; irregular cross-border migration, human smuggling and trafficking; ready-made garments (RMG), trade Unions and women empowerment; and climate change-induced migration, urban resettlement and livelihood.  \n",
      "Accessing URL -------------------------- http://www.northsouth.edu/nsu-announcements/eng-13072016.html\n",
      " Center of Excellence in Higher Education The First Private University in Bangladesh \n",
      "Accessing URL -------------------------- http://www.northsouth.edu/nsu-announcements/cc-23062016.html\n",
      " Center of Excellence in Higher Education The First Private University in Bangladesh \n",
      "Accessing URL -------------------------- http://www.northsouth.edu/faculty-members/shls/biochemistry-microbiology/nusrat-zahan-rouf.html\n",
      " Center of Excellence in Higher Education The First Private University in Bangladesh Nusrat Zahan Rouf   Full Time FacultyLecturerMSc. Biotechnology & Enterprise, The University of Manchester, UKBSc. Biochemistry & Biotechnology, North South University, BDPhone: +880-2-55668200 Ext-  Email: nusrat.rouf01@northsouth.edu Office: 833 (F) Curriculum Vitae   Ms. Rouf is a full-time Lecturer in the Department of Biochemistry & Microbiology, School of Health & Life Sciences at North South University. She holds a Master’s degree in Biotechnology & Enterprise from the University of Manchester, United Kingdom. She has done her Bachelor's in Biochemistry & Biotechnology at North South University. She has extensive research experience in working with micro-algae and biomarker detection for diseases like Tuberculosis and Chorioamnionitis. She has been involved in the conceptualisation of diagnostic devices as well as the cost optimization work for sex chromosome anomaly detection. Her master’s research project was aimed towards isolating chlorate-resistant mutants in microalgae Symbiodinium and studying the effect of sunscreen on marine microalgae. She is skilled at a variety of bioscience technologies such as Genome engineering, recombinant DNA technology and have training on patents analysis and drafting for protecting Intellectual Property around life sciences. Ms. Rouf has co-founded a Biotechnology start up ‘Biomasys’ which is registered in the UK and USA. She is leading and executing different projects which include development of preemptive detection device for miscarriage and preterm birth, development of a hospital management software for handling patients records in the underdeveloped countries. She has been winning multiple awards for her venture which includes Kickstarter Awards from Alliance Manchester Business School, The University of Manchester for three years in a row, Santander Universities: Accelerate Cambridge Award etc. She received extensive trainings for running start ups with expertise from Accelerate Cambridge (Accelerator by Judge Business School, University of Cambridge) for more than a year. She is passionate about job creation especially with the goal of mentoring young girls to pursue careers in STEM.  \n",
      "Accessing URL -------------------------- http://www.northsouth.edu/dept-notices/mgt-notices/\n",
      " Center of Excellence in Higher Education The First Private University in Bangladesh Notice Board \n",
      "Accessing URL -------------------------- http://www.northsouth.edu/faculty-members/sbe/acc-fin/ms.-farhana-zahir.html\n",
      " Phone: +880-2-55668200 Ext- 6056Email: farhana.zahir@northsouth.eduOffice Room: NAC 984 Curriculum Vitae Farhana Zahir completed her BBA from Institute of Business Administration, Dhaka University. She worked from 2002 to 2004 as a Financial Analyst at Standard Chartered Bank, Bangladesh. In 2005, she left for the USA to pursue an MBA with a concentration in Finance from Boston University. She graduated in May 2007 and joined Terra Partners Asset Management, a New York based investment management company managing a couple of hedge funds. She worked with Terra as the Chief Analyst, South Asia and Middle East until December 2014. She joined NSU in January 2015. Course Taught: Financial Modelling, Investment Theory, Financial Derivatives Research Interests: Capital markets \n",
      "Accessing URL -------------------------- http://www.northsouth.edu/archive/view-archive/?val=07-2019\n",
      " The students who have not submitted the photocopy of original certificates and academic transcripts of SSC/O levels & HSC/A levels at the time of admission (list attached below) are advised to submit all their photocopies of original certificates and academic transcripts as per the deadline mentioned below. Please bring original certificates / academic transcripts to Registrar’s Office for.... Published On: 16,July 2019/newassets/images/IT/Class Suspension for UG Admission Test-193..pdf.... Published On: 18,July 2019/newassets/images/IT/Announcment-Final.pdf.... Published On: 23,July 2019http://admissions.northsouth.edu/uploads/post/20190723113258_122002946.pdf.... Published On: 25,July 2019http://admissions.northsouth.edu/undergraduate_verification.... Published On: 25,July 2019/newassets/images/IT/Notice for Eid ul Adha.pdf.... Published On: 31,July 2019/newassets/images/IT/Written results of MBA Admission Test - Fall 2019.pdf.... \n",
      "Accessing URL -------------------------- http://www.northsouth.edu/nsu-announcements/?page=5\n",
      " Center of Excellence in Higher Education The First Private University in Bangladesh NSU Announcements 24/01/2022 24/01/2022 24/01/2022 20/01/2022 17/01/2022 13/01/2022 02/01/2022 02/01/2022 26/12/2021 21/12/2021 10/12/2021 09/12/2021 07/12/2021 07/12/2021 05/12/2021 25/11/2021 18/11/2021 18/11/2021 18/11/2021 10/11/2021 \n",
      "Accessing URL -------------------------- http://www.northsouth.edu/faculty-members/sbe/acc-fin/mohammad.rekabder.html\n",
      " Center of Excellence in Higher Education The First Private University in Bangladesh Mohammad Sarwar Rekabder Full Time FacultySenior Lecturer MBA, Carleton University, Canada MBA, Dhaka University, Bangladesh BBA, Dhaka University, Bangladesh Phone: +880-2-55668200 Ext-1788 Email: mohammad.rekabder@northsouth.eduRoom: NAC 744               Mohammad Sarwar Rekabder is a Senior Lecturer in Finance at North South University, Bangladesh. Before joining at North-South University, he worked as a finance executive at Massey Centre for Women, a Toronto-based non-profit organization. Rekabder completed his MBA from Sprott School of Business, Carleton University, Canada, with a specialization in Financial Management. He also received his BBA and MBA, with a concentration in accounting, from the University of Dhaka in 2004 and 2005 respectively. He is the recipient of the Education Board scholarship in BBA, University of Dhaka, Bangladesh. He has published a few articles in peer-reviewed and Scopus-indexed journals. His area of research interests includes corporate governance, earnings management, quality of accounting information, and blockchain technology. Khan, M.T.F, Sayem,S.M. and Rekabder, M. Sarwar Jahan (2010), “Forecasting price of selected agricultural commodities in Bangladesh: An empirical study\". Journal of ASA University Review, Volume04. Hasan, M. T., Rekabder, M. Sarwar Jahan, Akter Shammi and Sayem, S.M (2010), “Basel II: A challenge and an opportunity to Bangladeshi Banking”. Journal of ASA University Review. Volume-03. Jahan, N. and Rekabder, M. S, (2020) The Role of Accounting Information in Shop Floor Management Control: evidence from a Retail Chain in the UK, International Journal of Business and Social research. Miraz, M. , Hasan, M.  T., Rekabder, M.  S., & Akhter, R.  (2022).  Trust, transaction transparency, volatility, facilitating condition, performance expectancy towards cryptocurrency adoption through intention to use. Journal of Management Information and Decision Sciences, 25(S5), 1-20.        In Progress:          1. The impact of board structure on dividend policy and the moderating role of family ownership: Evidence from Bangladesh          2. Board Influence on Earnings Management and the moderating role of institutional ownership: Evidence from Bangladesh 2012--Recipient of the first price award from the Canadian Association for Family Enterprise (CAFE) Ottawa for writing an essay on “The Role of Family Bonding in Family Business” (http://http-server.carleton.ca/~fbrouard/documents/CAFEaward2012PaulRekabderFBgovernance.pdf) 2005--Recipient of the Education Board scholarship in BBA and MBA, University of Dhaka Bangladesh 1. Carleton University, Canada                                                                                                  Ottawa, Ontario Master of Business Administration                                                                                             December, 2012 Concentration: Finance, GPA: 10.13 out of 12 (85% Marks)                    2. University of Dhaka                                                                                                                                  Dhaka, Bangladesh Master of Business Administration,                                                                                                           July 2004 Concentration: Accounting, GPA: 3.67 out of 4  3. University of Dhaka                                                                                                            Dhaka, Bangladesh Bachelor of Business Administration                                                                                                        July 2003 Concentration: Accounting, GPA: 3.75 out of 4 North South University                                                                                                Dhaka, Bangladesh School of Business and Economics Senior Lecturer-Accounting (Full-time)                                                                     April 01, 2022 – present Lecturer-Accounting (Full-time)                                                                                  Sep 2015 – Mar 31, 2022  Delivered lectures in Managerial and financial accounting, financial management and advanced corporate finance and evaluated student’s performance through formal examinations and eventually graded their performance;  Provided support to the SBE (School of Business and Economics) through generating student learning objective report at the end of the semester;  Oriented excel based approach to teaching courses such as financial accounting, managerial accounting, corporate finance and advanced corporate finance and coached students in solving real life problems in academic setting.   ASA University Bangladesh                                                                                        Dhaka, Bangladesh Lecturer-Accounting (Full-time)                                                                                  April 2008 – June 2010  Trained students in Financial Statement Analysis by using real life cases and financial statements; equipped students with tools and techniques for critical evaluation of financial statements.  Worked with several public and private banks executives for the development of BASEL-II implementation strategies; proposed recommendations to facilitate BASEL-II implementation in Bangladesh.  Oriented case based curriculum for Cost accounting and   Managerial Accounting courses and coached students in solving real life problems in academic setting.  Coached students to understand International accounting standards (IAS), International financial reporting standards (IFRS) and generally accepted accounting principles (GAAP); State University Bangladesh                                                                                        Dhaka, Bangladesh Lecturer-Accounting (Full time)                                                                      September 2006-April 2008  Delivered lectures in Managerial and financial accounting, evaluated student’s performance through formal examinations and eventually graded their performance;  Worked with a committee of seven faculties in developing curriculum for the proper blend of Economics, Finance and Accounting in business administration studies; Coached students to understand International accounting standards (IAS), International financial reporting standards (IFRS) and generally accepted accounting principles (GAAP);     Massey Centre for Women (Toronto, Ontario) Financial Analyst (Dec 2013 to July 2015) Performed Accounts Payable and Receivables Reconciliations periodically to check accuracy of the accounts and passed adjusting journal entries to correct errors if any; (used SAGE ACCPAC 200 ERP (VERSION 5.6A);  Prepared monthly Investment Analysis Report through identifying the dividends, reinvestments, interests and distributions and matched with cash balances at the end of the period;  Assisted in the preparation of the Financial Budgets through correctly forecasting and allocating numbers into different departments and time periods; applied advanced excel function such as V-lookup, H-lookup and Macro etc.  Generated various reports such as Bank Reconciliations, Analysis of variances, Expense Projections, GST & HST Report & Master Assets Lists etc. as per the needs of the Finance Directors;  Worked as a member of the “Values Committee” – contributed in the group discussion to evaluate financial and nonfinancial performance (Balanced Scorecard) of the agency;   Financial Accounting (ACT 201) Managerial Accounting (ACT 202) Financial Management (FIN 254) Corporate Finance (FIN 440) Financial Statement Analysis (FIN410) Corporate Governance  Earnings Management  Earnings Quality  Blockchain Technology  Dividend Policy    \n",
      "Accessing URL -------------------------- http://www.northsouth.edu/faculty-members/shss/pss/dr.-syeda-lasna-kabir.html\n",
      " Center of Excellence in Higher Education The First Private University in Bangladesh Dr. Syeda Lasna Kabir Part Time FacultyProfessor   Ph.D. in Public Administration , University of Pune, IndiaM. Phil in Public administration, University of Bergen, Norway     General Information - Office Hour:Room: NAC 909Telephone: +880-2-55668200 Ext: Mobile: 017277060664Email: syeda.kabir@northsouth.edu \n",
      "Accessing URL -------------------------- http://www.northsouth.edu/faculty-members/shss/law/antara-tasmeen-att.html\n",
      " Master of Laws in International Human Rights Law and Practice, University of YorkBachelor of Laws (LL.B), University of BRAC Phone: 55 668 200 Ext. :   Email: antara.tasmeen@northsouth.edu Office: Curriculum Vitae   Contact Details: Flat-AB2, House-123, Lane-1/West Baridhara DOHS, Dhaka, Bangladesh Landline: 8410602 +8801876020739 • Group Research for the Harvard Carr Centre for Human Rights Policy Project title: Why  Bangladeshi Women would benefit from a VAW Convention (Link:http://carrcenter.hks.harvard.edu/law-school-clinic-partnerships/asia Institution   Degree   Date   Grades University of York, York,   Master of Laws in   September 2016 to   Merit United Kingdom   International Human   September 2017   • 2-week group work     Rights Law and       placement with the     Practice       North Yorkshire Police             researching bail             provisions             • Additional courses             taken in Conflict and             Development, and             International             Organisations BRAC University,   Bachelor of Laws   September 2012 to   High Distinction Dhaka, Bangladesh   • Minor in Economics   April 2016   CGPA: 3.67     (with courses in Public             Finance and             Econometrics)         Organisation Position Date Responsibilities         Course- Legal         Environment of   North South   January 2019 to Business (syllabi   University, Dhaka Lecturer (Part-Time) includes Contract   Present     Laws, Company laws,               Banking and         Securities Laws)         •Working on both   Barrister Md. Omar     Corporate and       Criminal Laws   Farouq and   October 2018 to Junior Associate • Legal Research and   Associates, Supreme Present   Preparing Case Notes                   Presenting a professional and         friendly first   M&S Simply Food,   October 2016 to impression to all   Customer Assistant customers   York Vangarde, UK February 2017   • Managing customers               in the busy Christmas         weeks         • Stock management         • Organised an event         ‘Raising Women’s         Voices Against VAW   Action Aid, UK Volunteer October 2016 to April and Girls’ on 7th   2017 December 2016             • Attended Tax         Campaign Training on         4th February 2017   Barrister Md. Omar     • Drafting legal letters,   Farouq and Pupil April 2016 to August applications and   Associates, Supreme 2016 contracts     Court of Bangladesh         BRAC University, Student Tutor May 2014 to April • Taught struggling   Dhaka 2016 students in legal   \n",
      "Accessing URL -------------------------- http://www.northsouth.edu/nsu-announcements/bio-07112016.html\n",
      " Center of Excellence in Higher Education The First Private University in Bangladesh \n",
      "Accessing URL -------------------------- http://www.northsouth.edu/nsu-announcements/coe-08102017.html\n",
      " Center of Excellence in Higher Education The First Private University in Bangladesh \n",
      "Accessing URL -------------------------- http://www.northsouth.edu/faculty-members/seps/mathematics-physics/dr.-mohammad-monir-uddin.html\n",
      " Matrix Equations Team at MPI Magdeburg, Magdeburg, Germany, I am intending to upload some softwares (Matlab and Python based) related to my research work.If you require any softwares related to my work please dont hesitated to contact with me: monir.uddin@northsouth.edu    RECENT UPDATES:       ◉ Research GrantI have received the NSU Faculty Research Grant 2016-2017 on the project \"Structure Preserving Model Reduction of Large-Scale Second Order Dynamical systems using the PDEG Method and Application to some Real Problems\". We will start from March 1, 2017.   ◉ Best Paper Award One of our research articles titled \"Rational Krylov subspace method (RKSM) for solving the Lyapunov equations of index-1 descriptor systems and application to balancing based model reduction\" has received a Best Paper Award (1st position) in ICECE 2016.    UPCOMING INTERNATIONAL CONFERENCES        IMPORTANT LINKS:         FOR STUDENTS:      rojects  Developing Mathematical Algorithms and Softwares for the Model Reduction of Large-Scale Dynamical Systems. (MS20191055)   Funded by: Bangladesh Ministry of Education (BANBEIS)Principle Investigator: Dr. Mohammad Monir Uddin (monir.uddin@northsouth.edu)  Co-Principle Investigator:  Prof Dr. Farahad Uddin (BUET) (kforhad77@gmail.com) Duaration:  3 years (Started from November 2019)     Model Reduction of Second-Order Descriptor Systems over Finite-Frequency Interval  Funded by:  NSU CTRGPrinciple Investigator: Dr. Mohammad Monir Uddin (monir.uddin@northsouth.edu) Co-Principle Investigator:  Prof Dr. Xin Du , Shanghai University  (duxin@shu.edu.cn) Duaration:  1 years (Started from November 2019)        Past Projects   Structure Preserving Model Reduction of Large-Scale Second Order Dynamical Systems Using the PDEG Method and Application to Some Real Problems Computational Methods for Approximation of Large-Scale Descriptor Systems Model Reduction of Piezo Mechanical Systems: May 2010 -Feb 2011, In the research group of Mathematics for Industry and Technology (MIIT) at Chemnitz University of Technology, Germany. Sparse Low-Rank Cholesky factor ADI Method: Aug 2010 – June 2015, In the research group Computational Methods for Systems and Control Theory (CSC), Maxplank Institute for Complex Dynamical Systems, Magdeburg, Germany.  Model Order Reduction for Mechanical Systems with Piezo Actuators: September 2010 - June 2015, In the research group Computational Methods for Systems and Control Theory (CSC), Maxplank Institute for Complex Dynamical Systems, Magdeburg, Germany. Since 2017- uced Order State Space Modeling of Piezo-Mechanical Systems”,  GAMM Work-shops 2012: Dynamics and Control, Anif/Salzburg, Austria, 18-21 September, 2012. Model Reduction of Mechanical Systems with Piezo Actuators Using Balanced Truncation,  CSC seminar, MPI Magdeburg, Magdeburg, Germany, 07 February, 2012 . Model Reduction for Piezo-mechanical Systems Using Balanced Truncation, Stockholm University, Stock-holm, Sweden, 29 April, 2011.  Participation in Conferences, Workshops and Summer School:      3rd Symposium of the German SIAM Student Chapters,  MPI Magdeburg, Germany, 18-19 August 2014. Model Reduction of Complex Dynamical Systems 2013,  MPI-Magdeburg, Germany, 11-13 December 2013.   3rd Summer School of the IMPRS Magdeburg for Analysis, Design, and Optimization in Chemical and Bio-chemical Process Engineering on   MULTISCALE MODELING AND SIMULATION”, Magdeburg, Germany,   02-06 September 2011. Workshop on Non-linear Model Order Reduction 2012,  Schloss Ringberg Tegernsee, Germany, 6-9 May 2012. 4th Elgersburg School 2012 on systems and control theory and its applications,  Elgersburg , Germany, 11-17 March 2012.   2nd summer school of the IMPRS ProEng on large scale networks and Engineering and life science,  Magde-burg, Germany, 26-30 September 2011.      Poster Presentation:        M. M. Uddin, Structure preserving model order reduction using the projection onto the dominant Eigen-space of the Gramian (PDEG),  International conference on Electrical, Computer and Communication Engineering (ECCE ) 2017, Cox's Bazar, Bangladesh; 16-18 Feb., 2017. M. I. Ahmad, J. Saak, M. M. Uddin, and M. Voigt, Model Order Reduction for Structured Second Or-der DAE System, Workshop on Non-linear Model Order Reduction 2014, Schloss Ringberg  gernsee, Germany, June 2014.  J. Saak, and M. M. Uddin, Balanced Truncation for unstable linearized Navier-Stokes Systems, Workshop on Non-linear Model Order Reduction 2014, Schloss Ringberg Tegernsee, Germany,  June 2014. Advance Linear Control System Course Code EEE-522 Credit 3 Textbook Mathematical Control Theory Deterministic Finite DimensionalSystems Authors: Eduardo D. Sontag. Objective   Course Content 1. A brief introduction to linear control systems and their   classifications, important definitions, theorems and notations.2. System’s modeling and various representations of them.3. Response (Solution) of linear control systems in both the time and frequency domain.4. System’s Gramians and their applications, controllability, observability and reachability.5. Realizations of systems, minimal realizations, balancing techniques.6. Reduced order modeling of LTI systems.7. Controller design; Riccati based optimal feedback control of linear systems. Calculus and Analytical Geometry IV Course Code Mat-250 Credit 3 Textbook Calculus: Early Transcendental; Anton, Bivens and Davis, 10th Edition Objective   Course Content Partial Derivatives: Functions of two variables, Limit and Continuity, Partial Derivatives, Differentiability and Chain Rule,Directional Derivatives, Tangent planes and normal vector, maxima and minima. Multiple Integrals: Double Integrals over rectangular and non-rectangular regions, Double Integrals in Polar Coordinates, Triple Integrals: Cartesian, Cylindrical and spherical coordinates, Change of variables in Multiple Integrals: Jacobean. Vector Calculus: Vector fields, Line integrals, Green’s theorem, Surface Integrals, Divergence theorem, Stokes Theorem.   Elementary Linear Algebra Course Code Mat-125 Credit 3 Textbook Elementary Linear Algebra By Howerd Anton ( 9th Edition) Objective   Course Content System of Linear Equations and Matrices:Introduction to System of Linear Equations, Gaussian Eliminations,  Matrices and Matrix Operations,  Inverse; Rules of Matrix Arithmetic, Elementary Matrices and a Method for Finding inverse of Matrix, Further Results on Systems of Equations and Invertibility, Diagonal, Triangular and Symmetric Matrices.\n",
      "Accessing URL -------------------------- http://www.northsouth.edu/osa/clubs/nsuac.html\n",
      " Athletics Club North South University Athletics Club (NSUAC) since its establishment in 1995 have been maneuvering all the sports affairs of North South University. The club started with the name of North South University Sports Club which later was changed to the present name on Spring 2016. It's been 24 years of NSUAC since its birth and is one of the oldest clubs of NSU. The club has represented NSU at many Inter University sports events in different sports and have brought prestige for NSU in terms of sports. The objective of NSUAC is to bring out the sports talents of NSU to spot light and prepare them well enough to represent NSU at the Inter University level through sports. Following this objective NSUAC has been successful since its journey. NSUAC represented NSU at various sporting event and walked out as champions. NSU have been champion in sports tournaments like Cricket, Football, Badminton, Table tennis, Basketball in many occasions.   NSUAC basically has six main events annually alongside some other small ones. All these events have been very effective in finding out all the sports talents in NSU. NSU Cricket League (NCL): NCL is a cricket tournament with two categories. One where all the other clubs participate to showcase their expertise in cricket. The other one is for the staffs and faculties of NSU where they participate department wise. NSU Football League (NFL): NFL is one of the most glorious events of NSUAC where all the clubs participate and battle it out to bring glory for their club in football. Since 2017 NSUAC has managed to arrange a female segment in this event. NSU Shuttle Masters: NSU Shuttle Masters is an intra NSU badminton tournament. This event has two segments, one for the students and the other for the faculties and staffs. The participants can take part there in men's single, men’s double, women's single, women's double and mixed double category. NSU Intra Batch Cricket Tournament: This is a proper T20 cricket tournament. The most recent six batches of NSU makes their team and participate in the tournament. The batches are divided their admission year wise. NSU Intra Batch Football Tournament: This is a football tournament among the most recent six batches of NSU. This and the intra batch cricket are similar to each other just the sport changes basically. NSU Sports Carnival: NSU Sports Carnival Is the largest sporting event in NSU arranged by NSUAC. This event is consisting of five sports which are table-tennis, basketball, badminton, football and cricket. NSUAC is planning to make this even larger from this year by pushing NSU Sports Carnival to Inter University level. Other than this tournament we also arrange award distribution ceremonies for the athletes of NSU known as “Night of the Knights”. Organizing all these events every year is a huge and tough task. Keeping this in mind we recruit members for the club thrice every year at the beginning of the semester. Members are recruited through personal interview and the best and dedicated are chosen to be a part of the journey of NSUAC, which becomes more of a family to them then club later on. Being one of the first clubs of NSU, North South University Athletics Club is now running on full throttle and trying to develop at every single step and fulfil its objective. The efficient members work their heart out to uphold and protect the glory of the name “North South University Athletics Club”. Connect With Us : Faculty Advisor Mehedi HasanSenior Lecturer, Dept of English & Mordern Langauge President Jahidul Alamjahidul.alam@northsouth.edu Vice President (Internal Affairs) Ramisa Anjumanramisa.anjuman@northsouth.edu Vice President (External Affairs) Sajjad Hossenhossen.sajjad@northsouth.edu   General Secretary Rahul Chandra Halderrahul.halder@northsouth.edu Treasurer Gazi Joynal Abidin gaziriyadh02@yahoo.com Joint Secretary Md. Arman Hossain  Joint Secretary Md. Arman Hossain armanepubd@gmail.com \n",
      "Accessing URL -------------------------- http://www.northsouth.edu/upcoming-events/israeli-atrocity-24052021.html\n",
      " Center of Excellence in Higher Education The First Private University in Bangladesh Scheduled Events Event Title : Israeli Atrocity Against the Palestinians: Where is the Humanity? Date & Time : 26-05-2021 To 2021-05-26 11:00:00 Venue : Webinar Organizer : SIPG and CPS Event Details       \n",
      "Accessing URL -------------------------- http://www.northsouth.edu/faculty-members/shls/esm/sheikh-samanin-tasnim.html\n",
      " Center of Excellence in Higher Education The First Private University in Bangladesh Sheikh Samanin Tasnim Full Time FacultyLecturer M.S., the University of Sydney, AUM.S., the University of Dhaka, BD Phone: +880-2-55668200 Ext: Email: sheikh.tasnim01@northsouth.edu Office: Curriculum Vitae   \n",
      "Accessing URL -------------------------- http://www.northsouth.edu/nsu-announcements/sbe-20032018.html\n",
      " Center of Excellence in Higher Education The First Private University in Bangladesh Attention BUS 498 Students - Exit Assessment Test Information \n",
      "Accessing URL -------------------------- http://www.northsouth.edu/nsu-announcements/sbe-new-student-advising-fall-2018.html\n",
      " Center of Excellence in Higher Education The First Private University in Bangladesh School of Business and Economics : New Student Advising Fall 2018       Date & Venue Time Venue Sunday, September 23, 2018 9:30 am - 11:30 am NAC-512/NAC-513   \n",
      "Accessing URL -------------------------- http://www.northsouth.edu/news-events/cpc-peace-25092022.html\n",
      "Accessing URL -------------------------- http://www.northsouth.edu/faculty-members/shls/biochemistry-microbiology/muktadir-shahid-hossain.html\n",
      " Center of Excellence in Higher Education The First Private University in Bangladesh Dr. Muktadir Shahid Hossain Full Time FacultyAssociate Professor Ph.D. in Pharmaceutical Biology, University of Tokyo, Japan Phone: +880-2-55668200 Ext: 1919 Email: muktadir.hossain01@northsouth.edu Office: Curriculum Vitae             Muktadir Shahid Hossain is an Associate Professor of the Department of Biochemistry and Microbiology of NSU. He joined the department in Janauary 2017. Muktadir S. Hossain completed his Ph.D. at the University of Tokyo, Japan in 2004 where he showed that quiescent (G0) phase cells of multicellular eukaryotes like mammals and insects require DNA topoisomeras II enzyme for the re-entry into the cell cycle, whereas the unicellular eukaryotes like yeast do not. The title of his Ph.D. dissertation is \"Requirement for DNA topoisomerase II during the G0-to-S phase transition in mammalian and insect cells\". In the University of Tokyo as a Ph.D. student, he participated in the isolation of temperature-sensitive mutants of the pathogenic bacterium, Staphylococcus aureus. In the University of Tokyo as a Ph.D. student, he also showed that the DNA double-strand break-inducing drugs that are used to treat cancner can induce myogenic differentiation in cultured cells of the fruit fly, Drosophila melanogaster. In the University of Tokyo as a Research Assistant, he established the larvae of the silk moth, Bombyx mori as animal model to study purified toxins from pathogenic bacteria like S. aureus and Pseudomonas aeruginosa by injection. He joined the National Cancer Institute (NCI) of National Institutes of Health (NIH) in Bethesda, Maryland, USA as a post-doctoral fellow where he identified certain transcription factors that regulate initiation of embryonic muscle differentiation in D. melanogaster. Then, he joined the Shanghai Institutes of Biological Sciences, China as a Senior Research Fellow to show that the evolutionarily conserved transcription factor, FoxO is required for the activation of ecdysone signaling during starvation for better survival of larvae of both B. mori and D. melanogaster. In Andong National University, South Korea, he showed as a Visiting Fellow along with other researchers that the ICA69 gene is a cytosolic phospholipase A2 that participates in the immunity of the beet armyworm, Spodoptera exigua, an important pest insect. As a Research Professor in Chonbuk National University, South Korea, he introduced the CRISPR-Cas9 gene-editing technique in the pest insect-killing fungus, Beauveria bassiana which is useful not only to identify the molecular mechanism of pathogenicity of B. bassiana towards insect pests by gene knock-out but also to improve the pathogenicity of the fungus by overexpressing virulence genes. Since B. bassiana is harmless to humans but can kill pest insects efficiently, it can be used in the context of Bangladesh where the use of chemical pesticides is widespread to control insect pests to increase crop production in an environmentally friendly way. He is also trying to identify novel anticancer drugs from biological extracts by using silkworm larvae as a cancer model via knocking out tumor-suppressor genes using the CRISPR-Cas9 technology.  List of Publications as an NSU employee:  1. Inteshar AA, Hossain MM, Uddin MA, Bari ML, Hossain MS (2020) Therapeutic effect of antibiotics against Escherichia coli O157:H7 in silk moth larvae animal model. Curr Microbiol 77(9):2172-2180.  List of Conference Presentations as an NSU employee: 1. Invited speaker in the \"4th International Caparica Conference in Antibiotic Resistance 2021\" (13th-17th June, Caparica, Portugal) which was held online due to the ongoing COVID-19 pandemic. Title of the talk: \"Therapeutic effect of antibiotics against Escherichia coli O157:H7 in silk moth larvae animal model\". (Abstract page: 94) Previous Publications: Hossain MS, Uddin MA, Gomosta AR, Hossain MA (2000) Effect of ethylene on some submergence-tolerant and susceptible rice (Oryza sativa) varieties of Bangladesh. Bangladesh J Biochem 6:1-17. Hossain MS, Akimitsu N, Takaki T, Hirai H, Sekimizu K (2002) ICRF-193, a catalytic inhibitor of DNA topoisomerase II, inhibits re-entry into the cell division cycle from quiescent state in mammalian cells. Genes Cells 7(3):285-294. Kaito C, Kurokawa K, Hossain MS, Akimitsu N, Sekimizu K (2002) Isolation and characterization of temperature-sensitive mutants of the Staphylococcus aureus dnaC FEMS Microbiol Lett 210(1):157-164. Akimitsu N, Adachi N, Hirai H, Hossain MS, Hamamoto H, Kobayashi M, Aratani Y, Koyama H, Sekimizu K (2003) Enforced cytokinesis without complete nuclear division in embryonic cells depleting the activity of DNA topoisomerase IIα. Genes Cells 8(4):393-402. Hossain MS, Akimitsu N, Kurokawa K, Sekimizu K (2003) Myogenic differentiation of Drosophila Schneider cells by DNA double-strand break-inducing drugs. Differentiation 71(4-5):271-280. Hossain MS, Kurokawa K, Akimitsu N, Sekimizu K (2004) DNA topoisomerase II is required for the G0-to-S phase transition in Drosophila Schneider cells, but not in yeast. Genes Cells 9(10):905-917. Hossain MS, Kurokawa K, Sekimizu K (2005) Induction of fusion-competent myoblast-specific gene expression during myogenic differentiation of Drosophila Schneider cells by DNA double-strand breaks or replication inhibition. Biochim Biophys Acta 1743(1-2):176-186. Hossain MS, Hamamoto H, Matsumoto Y, Razanajatovo IM, Larranaga J, Kaito C, Kasuga H, Sekimizu K (2006) Use of silkworm larvae to study pathogenic bacterial toxins. J Biochem 143(3):439-444. Hossain MS, Liu Y, Zhou S, Li K, Tian L, Li S (2013) 20-Hydroxyecdysone-induced transcriptional activity of FoxO upregulates brummer and acid lipase-1 and promotes lipolysis in Bombyx fat body. Insect Biochem Mol Biol 43(9):829-838. Li K, Guo E, Hossain MS, Li Q, Cao Y, Tian L, Deng X, Li S. (2015) Bombyx E75 isoforms display stage- and tissue-specific responses to 20-hydroxyecdysone. Sci Rep 5:12114. Lee SJ, Kim S, Kim JC, Lee MR, Hossain MS, Shin TS, Kim TH, Kim JS (2017) Entomopathogenic Beauveria bassiana granules to control soil-dwelling stage of western flower thrips, Frankliniella occidentalis (Thysanoptera:Thripidae). Biocontrol 62:639-648. Lee SJ, Yang YT, Kim S, Lee MR, Kim JC, Park SE, Hossain MS, Shin TY, Nai YS, Kim JS. (2019) Transcriptional response of bean bug (Riptortus pedestris) upon infection with entomopathogenic fungus, Beauveria bassiana JEF-007. Pest Manag Sci 75(2):333-345.   Pre-doctoral and doctoral course scholarships (Monbusho) from the Ministry of Education, Sports, and Culture of the Government of Japan. Fogarty Cancer Research Training Award (CRTA) as a Visiting Fellow from the National Cancer Institute, National Institutes of Health, USA. Degree Year Institute Subject Grade/Class/ Division Ph.D. 2004 University of Tokyo, Japan Pharmaceutical Biology Grade A M.Sc.   2000   University of Dhaka, Bangladesh Biochemistry & Molecular Biology First Class First B.Sc. 1998 University of Dhaka, Bangladesh Biochemistry & Molecular Biology First Class First Higher Secondary Certificate 1993 Notre Dame College, Dhaka, Bangladesh Science First Division with STAR   Secondary School Certificate 1991 Motijheel Govt. Boys’ High School, Dhaka, Bangladesh Science First Division with STAR 2016 (June-December): Research Professor in the lab of Prof. Jae-Su Kim of the Department of Agricultural Biology, Chonbuk National University, Jeonju, South Korea. 2016 (January-April): Visiting Fellow in the lab of Prof. Yonggyun Kim of the Department of Bioresource Sciences, Andong National University, Andong, South Korea. 2011-2015: Senior Research Fellow in the lab of Prof. Sheng Li of Key Laboratory of Insect Developmental and Evolutionary Biology, Shanghai Institutes for Biological Sciences, Chinese Academy of Sciences, Shanghai, China. 2005-2008: Fogarty Cancer Research Fellow in the lab of Dr. Bruce M. Paterson, National Cancer Institute, National Institutes of Health, Bethesda, Maryland, USA. 2004-2005: Research Assistant in the lab of Prof. Kazuhisa Sekimizu, Laboratory of Microbiology, Graduate School of Pharmaceutical Sciences, University of Tokyo, Japan. 2001-2004: Doctoral course student in the lab of Prof. Kazuhisa Sekimizu, Laboratory of Microbiology, Graduate School of Pharmaceutical Sciences, University of Tokyo, Japan. 2000-2001: Pre-doctoral course student in the lab of Prof. Kazuhisa Sekimizu, Laboratory of Microbiology, Graduate School of Pharmaceutical Sciences, University of Tokyo, Japan. 2000: Research Assistant in the lab of Prof. M. Anwar Hossain, Department of Biochemistry and Molecular Biology, University of Dhaka, Bangladesh.   BIO201 (Introduction to Biochemistry & Biotechnology) CHE202/BBT202 (Bio-organic Chemistry) BBT312/BBT204 (Molecular Biology) Dr. Hossain in interested in using silkworm larvae as an animal model to study pathogenicity of bacteria isolated in Bangladesh. He is interested to isolate novel antibiotics that will be useful against multidrug-resistant bacteria using silkworm-bacteria infection model. Dr. Hossain is interested in isolating entomopathogenic (insect-killing) organisms like fungi, nematode, bacteria as environmentally-friendly biocontrol agents to control pest insects like mosquitoes, fall armyworm etc. Dr. Hossain is interested in using the CRISPR-Cas9 technology for gene-targeting in silkworm larvae to induce cancerous growth to identify biological extracts that exhibit anticancer effects. Dr. Hossain also studies the role of hormonal signaling in response to starvation in insects and mammals.  \n",
      "Accessing URL -------------------------- http://www.northsouth.edu/faculty-members/sbe/mgt/faseeha-zabir.html\n",
      " Center of Excellence in Higher Education The First Private University in Bangladesh Faseeha Zabir Full Time FacultyLecturer Master of HRM, The University of Sydney, Australia BBA, BRAC University, Bangaldesh Phone: +880-2-55668200 Ext: 6084Email: faseeha.zabir@northsouth.eduOffice: NAC855   Faseeha Zabir is a Lecturer of Management department, School of Business and Economics. She has been teaching mostly courses related to Human Resources Managemnt and Business Communication. Prior to joining NSU as a faculty member, she worked for the banking industry, especially in Foreign Exchange and was liable for regulatory reporting. Conference Proceedings 1. Islam, Q. T., Hossain, M., Iqbal, R., & Zabir, F. (2020). Challenges of Adapting to the Fourth Industrial Revolution in Emerging Economies: A Bangladesh Study. In Management of Innovation and Sustainability: Vision 2041. Dhaka: Institute of Business Administration (IBA). (Won the \"Best Paper Award\" in the innovation segment)   Book Chapters 2. Islam, Q. T., Hossain, M., Zabir, F. and Iqbal, R., 2021. CHALLENGES OF ADAPTING TO THE FOURTH INDUSTRIAL REVOLUTION IN EMERGING ECONOMIES: A BANGLADESH CASE. In: G. Singh, R. Giel and V. Garg, ed., Industry 4.0 and the Digital Transformation of International Business, 1st ed. Singapore: Springer Nature Singapore Pte. (Accepted) 1. \"Best Paper Award\" worth of USD 200 in the innovation segment at the \"Management of Innovation and Sustainability: Vision 2041\" Conference organized by  and IBA, DU. (2020). 2. Awarded with Vice Chancellor's Scholarship for the International Students for Master of Humance Resources and Industrial Relations in The University of Sydney. (2016-2017). Master of Human Resources Management & Industrial Relations, The University of Sydney, Sydney, Australia. Bachelors of Business Administration, Human Resources Management & Finance, BRAC University, Bangladesh. Lecturer, Department of Management, School of Business & Economics, North South University Citibank, N.A. Bangladesh (2015-2016) Officer, Fund Transfer Unit, Cash Management Operations Responsible for conducting sensitive outeard remittance and preparing regulatory report for Bangladesh Bank     Standard Chartered Bank Intern, Talent Acquisition Unit, HR Department Responsible for a project of preparing Employee Files for the yearly audit, conducting written exams for the candidates, communicating with prospective employees and maintaining liaison with employees from other departments.   MGT351: Human Resources Management HRM340: Training and Development BUS251: Business Communication BUS498: Internship Psychological Contract, Organizational Development; Learning and Development; Sustainability, Employee Engagement, Employee Management, Organizational Changes and Management, Employee Behavior, Human Resources Management \n",
      "Accessing URL -------------------------- http://www.northsouth.edu/nsu-announcements/new-student-spring-2021-enrollment-process.html\n",
      " Center of Excellence in Higher Education The First Private University in Bangladesh Guide Lines for New Student (Spring 2021) 1. 2. 3. 4.   Login Informaiton: Enrollment Process:   Student Portal (RDS):  NSU Email:  \n",
      "Accessing URL -------------------------- http://www.northsouth.edu/nsu-announcements/cc-17012017.html\n",
      " Center of Excellence in Higher Education The First Private University in Bangladesh \n",
      "Accessing URL -------------------------- http://www.northsouth.edu/news-events/ambassador-talk-1.html\n",
      "Accessing URL -------------------------- http://www.northsouth.edu/nsu-announcements/bus498-07032019.html\n",
      "Accessing URL -------------------------- http://www.northsouth.edu/faculty-members/shss/pss/md.-towfique-e-elahi.html\n",
      " Center of Excellence in Higher Education The First Private University in Bangladesh Dr. Md. Towfique E Elahi Full Time Faculty Assistant Professor Ph.D.,  Hiroshima University, JPM.Sc.,  Hiroshima University, JP Phone: +880-2-55668200 Ext: Email: towfique.elahi@northsouth.edu Office: Curriculum Vitae \n",
      "Accessing URL -------------------------- http://www.northsouth.edu/nsu-announcements/pad201.2-sua2.html\n",
      " Center of Excellence in Higher Education The First Private University in Bangladesh \n",
      "Accessing URL -------------------------- http://www.northsouth.edu/nsu-announcements/certificatecourse.html\n",
      "Accessing URL -------------------------- http://www.northsouth.edu/news-events/qa-ranking2021.html\n",
      " \t Wednesday, April 5, 2023\t × More NSU Ranked in the QS World University Rankings 2021 by subject for the second consecutive year Fri Mar 5, 2021 12:15 PM Last update on: Fri Mar 5, 2021 12:20 PM Photo taken from North South University's Facebook page North South University's Business & Management Studies and Computer Science & Information Systems has been ranked in the QS World University Rankings 2021 by Subject for the second year in a row. NSU also continues to be the only private university in Bangladesh to be ranked in the QS Rankings by Subjects. Business and Management Studies secured the Global Rank of 351-400, ascending 50 spots from last year. Computer Science and Information Systems secured the Global Rank of 601-650. This year's QS World University Rankings reveals the top 1,000 universities from around the world, covering 80 different locations. Over 5,500 universities were evaluated and considered for inclusion. The QS World University Rankings by Subject ranks the world's top universities in individual subject areas, covering 51 subjects. Each of the subject rankings is compiled using four sources. The first two of these are QS's global surveys of academics and employers, which are used to assess institution's international reputation in each subject. The second two indicators assess research impact, based on research citations per paper and h-index in the relevant subject. These are sourced from Elsevier's Scopus database, the world's most comprehensive research citations database. These four components are combined to produce the results for each of the subject rankings, with weightings adapted for each discipline. North South University continued to hold its leading position across all ranking platforms. North South University (NSU) has proudly held its undisputed spot as the #1 private university in Bangladesh in the latest QS World University Rankings - Asia 2021. NSU is the first and only private university in Bangladesh to have also entered the QS Graduate Employability Rankings among the World's Top 500 institutions in 2020. QS WUR by Subjects (Business and Management): QS WUR by Subjects (Computer Science and Information Systems):  QS Asia Rankings 2021:   Comments ১ ঘণ্টা আগে|আইনশৃঙ্খলা বাহিনীকে অবশ্যই জনগণের জীবন ও ব্যক্তি স্বাধীনতার অধিকার রক্ষায় কাজ করতে হবে বলে মন্তব্য করেছেন হাইকোর্ট। ১ ঘণ্টা আগে| X \n",
      "Accessing URL -------------------------- http://www.northsouth.edu/about/facts.html\n",
      " Center of Excellence in Higher Education The First Private University in Bangladesh Facts About NSU The foundation of NSU permanent campus at Bashundhara was laid in 2003. The construction of the campus superstructures was expedited and completed in early Summer 2009 and the university shifted to its spacious new campus. Founded on 5.5 acres of beautifully landscaped area, this impressive state-of-the art campus with modern academic amenities and facilities of a world class university stands out as an extraordinary architectural landmark of Dhaka. The campus is designed to serve at least 22,000 students. Built according to a master plan carefully designed by a panel of internationally renowned architects, the complex is divided into three major units: the seven-storied administrative building with the offices of the Board of Trustees, the Vice Chancellor, the Pro Vice Chancello, the Treasurer, the Registrar and the Deans is at the West; it is flanked by two ten-storied structures-the North Academic Building (NAC) housing the Schools of Business, Arts & Social Sciences and the Confucius Institute and the South Academic Building (SAC) where the Schools of Engineering & Applied Sciences as well as the School of Life Sciences are located. The 1.2 million sq. ft. floor space contains more than 100 class rooms, lecture theatres and exam halls equipped with latest teaching aids such as multimedia & computer terminal. It has IP (Internet Protocol) Telephone connectivity, WiFi access across campus, fully automated library, 35 administrative offices and 391 faculty offices; 8 Pharmacy and 9 Life Sciences-Biotechnology, Microbiology & Biochemistry- labs, 17 computer labs with around 1850 PCs, most of them with internet facilities. Servers include HP-UX System, Sun Solaris, IBM and DELL. The structure also contains a spacious open air theatre and lobby, a large auditorium, gym/health clubs, student and faculty lounges, several cafeteria, medical center, student club offices, game rooms, 4-MW captive power generators and 3-level basement parking space for 600 vehicles. There are 1850 computers in 17 computer labs for the use of the students, the faculty members and the office staff, most of which are provided with Internet facilities. Wireless connectivity ensures fast and hassle-free excursions into cyber space. An ultra-modern state of the art Auditorium with 1100 sitting capacity is nearing completion. NSU campus has been designed and built to meet the needs of a twenty-first century academic environment. \n",
      "Accessing URL -------------------------- http://www.northsouth.edu/nsu-announcements/attention-bus-498-student-exit-assessment-test-dates-and-link.html\n",
      " Center of Excellence in Higher Education The First Private University in Bangladesh \n",
      "Accessing URL -------------------------- http://www.northsouth.edu/upcoming-events/erp-national-conversation.html\n",
      " Center of Excellence in Higher Education The First Private University in Bangladesh Scheduled Events Event Title : ERP National Conversation Emerging Challenges and the National Budget: Options for Action Date & Time : 04-05-2019 To 2019-05-04 17:00:00 Venue : North South University Organizer : Economics Research Platform - North South University Event Details \n",
      "Accessing URL -------------------------- http://www.northsouth.edu/nsu-announcements/fao-05092016.html\n",
      " Center of Excellence in Higher Education The First Private University in Bangladesh \n"
     ]
    },
    {
     "ename": "KeyboardInterrupt",
     "evalue": "",
     "output_type": "error",
     "traceback": [
      "\u001b[0;31m---------------------------------------------------------------------------\u001b[0m",
      "\u001b[0;31mKeyboardInterrupt\u001b[0m                         Traceback (most recent call last)",
      "Cell \u001b[0;32mIn[22], line 6\u001b[0m\n\u001b[1;32m      1\u001b[0m session \u001b[39m=\u001b[39m requests\u001b[39m.\u001b[39mSession()\n\u001b[1;32m      3\u001b[0m \u001b[39mfor\u001b[39;00m tag \u001b[39min\u001b[39;00m temp_url_set_2:\n\u001b[1;32m      4\u001b[0m \n\u001b[1;32m      5\u001b[0m     \u001b[39m# start session and get the search page\u001b[39;00m\n\u001b[0;32m----> 6\u001b[0m     response \u001b[39m=\u001b[39m session\u001b[39m.\u001b[39;49mget(tag)\n\u001b[1;32m      8\u001b[0m     \u001b[39m# parse the search page lxml\u001b[39;00m\n\u001b[1;32m      9\u001b[0m     data \u001b[39m=\u001b[39m soup(response\u001b[39m.\u001b[39mcontent, \u001b[39m'\u001b[39m\u001b[39mlxml\u001b[39m\u001b[39m'\u001b[39m)\n",
      "File \u001b[0;32m~/opt/anaconda3/envs/chatbot_env/lib/python3.9/site-packages/requests/sessions.py:600\u001b[0m, in \u001b[0;36mSession.get\u001b[0;34m(self, url, **kwargs)\u001b[0m\n\u001b[1;32m    592\u001b[0m \u001b[39mr\u001b[39m\u001b[39m\"\"\"Sends a GET request. Returns :class:`Response` object.\u001b[39;00m\n\u001b[1;32m    593\u001b[0m \n\u001b[1;32m    594\u001b[0m \u001b[39m:param url: URL for the new :class:`Request` object.\u001b[39;00m\n\u001b[1;32m    595\u001b[0m \u001b[39m:param \\*\\*kwargs: Optional arguments that ``request`` takes.\u001b[39;00m\n\u001b[1;32m    596\u001b[0m \u001b[39m:rtype: requests.Response\u001b[39;00m\n\u001b[1;32m    597\u001b[0m \u001b[39m\"\"\"\u001b[39;00m\n\u001b[1;32m    599\u001b[0m kwargs\u001b[39m.\u001b[39msetdefault(\u001b[39m\"\u001b[39m\u001b[39mallow_redirects\u001b[39m\u001b[39m\"\u001b[39m, \u001b[39mTrue\u001b[39;00m)\n\u001b[0;32m--> 600\u001b[0m \u001b[39mreturn\u001b[39;00m \u001b[39mself\u001b[39;49m\u001b[39m.\u001b[39;49mrequest(\u001b[39m\"\u001b[39;49m\u001b[39mGET\u001b[39;49m\u001b[39m\"\u001b[39;49m, url, \u001b[39m*\u001b[39;49m\u001b[39m*\u001b[39;49mkwargs)\n",
      "File \u001b[0;32m~/opt/anaconda3/envs/chatbot_env/lib/python3.9/site-packages/requests/sessions.py:587\u001b[0m, in \u001b[0;36mSession.request\u001b[0;34m(self, method, url, params, data, headers, cookies, files, auth, timeout, allow_redirects, proxies, hooks, stream, verify, cert, json)\u001b[0m\n\u001b[1;32m    582\u001b[0m send_kwargs \u001b[39m=\u001b[39m {\n\u001b[1;32m    583\u001b[0m     \u001b[39m\"\u001b[39m\u001b[39mtimeout\u001b[39m\u001b[39m\"\u001b[39m: timeout,\n\u001b[1;32m    584\u001b[0m     \u001b[39m\"\u001b[39m\u001b[39mallow_redirects\u001b[39m\u001b[39m\"\u001b[39m: allow_redirects,\n\u001b[1;32m    585\u001b[0m }\n\u001b[1;32m    586\u001b[0m send_kwargs\u001b[39m.\u001b[39mupdate(settings)\n\u001b[0;32m--> 587\u001b[0m resp \u001b[39m=\u001b[39m \u001b[39mself\u001b[39;49m\u001b[39m.\u001b[39;49msend(prep, \u001b[39m*\u001b[39;49m\u001b[39m*\u001b[39;49msend_kwargs)\n\u001b[1;32m    589\u001b[0m \u001b[39mreturn\u001b[39;00m resp\n",
      "File \u001b[0;32m~/opt/anaconda3/envs/chatbot_env/lib/python3.9/site-packages/requests/sessions.py:723\u001b[0m, in \u001b[0;36mSession.send\u001b[0;34m(self, request, **kwargs)\u001b[0m\n\u001b[1;32m    720\u001b[0m \u001b[39mif\u001b[39;00m allow_redirects:\n\u001b[1;32m    721\u001b[0m     \u001b[39m# Redirect resolving generator.\u001b[39;00m\n\u001b[1;32m    722\u001b[0m     gen \u001b[39m=\u001b[39m \u001b[39mself\u001b[39m\u001b[39m.\u001b[39mresolve_redirects(r, request, \u001b[39m*\u001b[39m\u001b[39m*\u001b[39mkwargs)\n\u001b[0;32m--> 723\u001b[0m     history \u001b[39m=\u001b[39m [resp \u001b[39mfor\u001b[39;00m resp \u001b[39min\u001b[39;00m gen]\n\u001b[1;32m    724\u001b[0m \u001b[39melse\u001b[39;00m:\n\u001b[1;32m    725\u001b[0m     history \u001b[39m=\u001b[39m []\n",
      "File \u001b[0;32m~/opt/anaconda3/envs/chatbot_env/lib/python3.9/site-packages/requests/sessions.py:723\u001b[0m, in \u001b[0;36m<listcomp>\u001b[0;34m(.0)\u001b[0m\n\u001b[1;32m    720\u001b[0m \u001b[39mif\u001b[39;00m allow_redirects:\n\u001b[1;32m    721\u001b[0m     \u001b[39m# Redirect resolving generator.\u001b[39;00m\n\u001b[1;32m    722\u001b[0m     gen \u001b[39m=\u001b[39m \u001b[39mself\u001b[39m\u001b[39m.\u001b[39mresolve_redirects(r, request, \u001b[39m*\u001b[39m\u001b[39m*\u001b[39mkwargs)\n\u001b[0;32m--> 723\u001b[0m     history \u001b[39m=\u001b[39m [resp \u001b[39mfor\u001b[39;00m resp \u001b[39min\u001b[39;00m gen]\n\u001b[1;32m    724\u001b[0m \u001b[39melse\u001b[39;00m:\n\u001b[1;32m    725\u001b[0m     history \u001b[39m=\u001b[39m []\n",
      "File \u001b[0;32m~/opt/anaconda3/envs/chatbot_env/lib/python3.9/site-packages/requests/sessions.py:266\u001b[0m, in \u001b[0;36mSessionRedirectMixin.resolve_redirects\u001b[0;34m(self, resp, req, stream, timeout, verify, cert, proxies, yield_requests, **adapter_kwargs)\u001b[0m\n\u001b[1;32m    263\u001b[0m     \u001b[39myield\u001b[39;00m req\n\u001b[1;32m    264\u001b[0m \u001b[39melse\u001b[39;00m:\n\u001b[0;32m--> 266\u001b[0m     resp \u001b[39m=\u001b[39m \u001b[39mself\u001b[39;49m\u001b[39m.\u001b[39;49msend(\n\u001b[1;32m    267\u001b[0m         req,\n\u001b[1;32m    268\u001b[0m         stream\u001b[39m=\u001b[39;49mstream,\n\u001b[1;32m    269\u001b[0m         timeout\u001b[39m=\u001b[39;49mtimeout,\n\u001b[1;32m    270\u001b[0m         verify\u001b[39m=\u001b[39;49mverify,\n\u001b[1;32m    271\u001b[0m         cert\u001b[39m=\u001b[39;49mcert,\n\u001b[1;32m    272\u001b[0m         proxies\u001b[39m=\u001b[39;49mproxies,\n\u001b[1;32m    273\u001b[0m         allow_redirects\u001b[39m=\u001b[39;49m\u001b[39mFalse\u001b[39;49;00m,\n\u001b[1;32m    274\u001b[0m         \u001b[39m*\u001b[39;49m\u001b[39m*\u001b[39;49madapter_kwargs,\n\u001b[1;32m    275\u001b[0m     )\n\u001b[1;32m    277\u001b[0m     extract_cookies_to_jar(\u001b[39mself\u001b[39m\u001b[39m.\u001b[39mcookies, prepared_request, resp\u001b[39m.\u001b[39mraw)\n\u001b[1;32m    279\u001b[0m     \u001b[39m# extract redirect url, if any, for the next loop\u001b[39;00m\n",
      "File \u001b[0;32m~/opt/anaconda3/envs/chatbot_env/lib/python3.9/site-packages/requests/sessions.py:745\u001b[0m, in \u001b[0;36mSession.send\u001b[0;34m(self, request, **kwargs)\u001b[0m\n\u001b[1;32m    742\u001b[0m         \u001b[39mpass\u001b[39;00m\n\u001b[1;32m    744\u001b[0m \u001b[39mif\u001b[39;00m \u001b[39mnot\u001b[39;00m stream:\n\u001b[0;32m--> 745\u001b[0m     r\u001b[39m.\u001b[39;49mcontent\n\u001b[1;32m    747\u001b[0m \u001b[39mreturn\u001b[39;00m r\n",
      "File \u001b[0;32m~/opt/anaconda3/envs/chatbot_env/lib/python3.9/site-packages/requests/models.py:899\u001b[0m, in \u001b[0;36mResponse.content\u001b[0;34m(self)\u001b[0m\n\u001b[1;32m    897\u001b[0m         \u001b[39mself\u001b[39m\u001b[39m.\u001b[39m_content \u001b[39m=\u001b[39m \u001b[39mNone\u001b[39;00m\n\u001b[1;32m    898\u001b[0m     \u001b[39melse\u001b[39;00m:\n\u001b[0;32m--> 899\u001b[0m         \u001b[39mself\u001b[39m\u001b[39m.\u001b[39m_content \u001b[39m=\u001b[39m \u001b[39mb\u001b[39;49m\u001b[39m\"\u001b[39;49m\u001b[39m\"\u001b[39;49m\u001b[39m.\u001b[39;49mjoin(\u001b[39mself\u001b[39;49m\u001b[39m.\u001b[39;49miter_content(CONTENT_CHUNK_SIZE)) \u001b[39mor\u001b[39;00m \u001b[39mb\u001b[39m\u001b[39m\"\u001b[39m\u001b[39m\"\u001b[39m\n\u001b[1;32m    901\u001b[0m \u001b[39mself\u001b[39m\u001b[39m.\u001b[39m_content_consumed \u001b[39m=\u001b[39m \u001b[39mTrue\u001b[39;00m\n\u001b[1;32m    902\u001b[0m \u001b[39m# don't need to release the connection; that's been handled by urllib3\u001b[39;00m\n\u001b[1;32m    903\u001b[0m \u001b[39m# since we exhausted the data.\u001b[39;00m\n",
      "File \u001b[0;32m~/opt/anaconda3/envs/chatbot_env/lib/python3.9/site-packages/requests/models.py:816\u001b[0m, in \u001b[0;36mResponse.iter_content.<locals>.generate\u001b[0;34m()\u001b[0m\n\u001b[1;32m    814\u001b[0m \u001b[39mif\u001b[39;00m \u001b[39mhasattr\u001b[39m(\u001b[39mself\u001b[39m\u001b[39m.\u001b[39mraw, \u001b[39m\"\u001b[39m\u001b[39mstream\u001b[39m\u001b[39m\"\u001b[39m):\n\u001b[1;32m    815\u001b[0m     \u001b[39mtry\u001b[39;00m:\n\u001b[0;32m--> 816\u001b[0m         \u001b[39myield from\u001b[39;00m \u001b[39mself\u001b[39m\u001b[39m.\u001b[39mraw\u001b[39m.\u001b[39mstream(chunk_size, decode_content\u001b[39m=\u001b[39m\u001b[39mTrue\u001b[39;00m)\n\u001b[1;32m    817\u001b[0m     \u001b[39mexcept\u001b[39;00m ProtocolError \u001b[39mas\u001b[39;00m e:\n\u001b[1;32m    818\u001b[0m         \u001b[39mraise\u001b[39;00m ChunkedEncodingError(e)\n",
      "File \u001b[0;32m~/opt/anaconda3/envs/chatbot_env/lib/python3.9/site-packages/urllib3/response.py:628\u001b[0m, in \u001b[0;36mHTTPResponse.stream\u001b[0;34m(self, amt, decode_content)\u001b[0m\n\u001b[1;32m    626\u001b[0m \u001b[39melse\u001b[39;00m:\n\u001b[1;32m    627\u001b[0m     \u001b[39mwhile\u001b[39;00m \u001b[39mnot\u001b[39;00m is_fp_closed(\u001b[39mself\u001b[39m\u001b[39m.\u001b[39m_fp):\n\u001b[0;32m--> 628\u001b[0m         data \u001b[39m=\u001b[39m \u001b[39mself\u001b[39;49m\u001b[39m.\u001b[39;49mread(amt\u001b[39m=\u001b[39;49mamt, decode_content\u001b[39m=\u001b[39;49mdecode_content)\n\u001b[1;32m    630\u001b[0m         \u001b[39mif\u001b[39;00m data:\n\u001b[1;32m    631\u001b[0m             \u001b[39myield\u001b[39;00m data\n",
      "File \u001b[0;32m~/opt/anaconda3/envs/chatbot_env/lib/python3.9/site-packages/urllib3/response.py:567\u001b[0m, in \u001b[0;36mHTTPResponse.read\u001b[0;34m(self, amt, decode_content, cache_content)\u001b[0m\n\u001b[1;32m    564\u001b[0m fp_closed \u001b[39m=\u001b[39m \u001b[39mgetattr\u001b[39m(\u001b[39mself\u001b[39m\u001b[39m.\u001b[39m_fp, \u001b[39m\"\u001b[39m\u001b[39mclosed\u001b[39m\u001b[39m\"\u001b[39m, \u001b[39mFalse\u001b[39;00m)\n\u001b[1;32m    566\u001b[0m \u001b[39mwith\u001b[39;00m \u001b[39mself\u001b[39m\u001b[39m.\u001b[39m_error_catcher():\n\u001b[0;32m--> 567\u001b[0m     data \u001b[39m=\u001b[39m \u001b[39mself\u001b[39;49m\u001b[39m.\u001b[39;49m_fp_read(amt) \u001b[39mif\u001b[39;00m \u001b[39mnot\u001b[39;00m fp_closed \u001b[39melse\u001b[39;00m \u001b[39mb\u001b[39m\u001b[39m\"\u001b[39m\u001b[39m\"\u001b[39m\n\u001b[1;32m    568\u001b[0m     \u001b[39mif\u001b[39;00m amt \u001b[39mis\u001b[39;00m \u001b[39mNone\u001b[39;00m:\n\u001b[1;32m    569\u001b[0m         flush_decoder \u001b[39m=\u001b[39m \u001b[39mTrue\u001b[39;00m\n",
      "File \u001b[0;32m~/opt/anaconda3/envs/chatbot_env/lib/python3.9/site-packages/urllib3/response.py:533\u001b[0m, in \u001b[0;36mHTTPResponse._fp_read\u001b[0;34m(self, amt)\u001b[0m\n\u001b[1;32m    530\u001b[0m     \u001b[39mreturn\u001b[39;00m buffer\u001b[39m.\u001b[39mgetvalue()\n\u001b[1;32m    531\u001b[0m \u001b[39melse\u001b[39;00m:\n\u001b[1;32m    532\u001b[0m     \u001b[39m# StringIO doesn't like amt=None\u001b[39;00m\n\u001b[0;32m--> 533\u001b[0m     \u001b[39mreturn\u001b[39;00m \u001b[39mself\u001b[39;49m\u001b[39m.\u001b[39;49m_fp\u001b[39m.\u001b[39;49mread(amt) \u001b[39mif\u001b[39;00m amt \u001b[39mis\u001b[39;00m \u001b[39mnot\u001b[39;00m \u001b[39mNone\u001b[39;00m \u001b[39melse\u001b[39;00m \u001b[39mself\u001b[39m\u001b[39m.\u001b[39m_fp\u001b[39m.\u001b[39mread()\n",
      "File \u001b[0;32m~/opt/anaconda3/envs/chatbot_env/lib/python3.9/http/client.py:463\u001b[0m, in \u001b[0;36mHTTPResponse.read\u001b[0;34m(self, amt)\u001b[0m\n\u001b[1;32m    460\u001b[0m \u001b[39mif\u001b[39;00m amt \u001b[39mis\u001b[39;00m \u001b[39mnot\u001b[39;00m \u001b[39mNone\u001b[39;00m:\n\u001b[1;32m    461\u001b[0m     \u001b[39m# Amount is given, implement using readinto\u001b[39;00m\n\u001b[1;32m    462\u001b[0m     b \u001b[39m=\u001b[39m \u001b[39mbytearray\u001b[39m(amt)\n\u001b[0;32m--> 463\u001b[0m     n \u001b[39m=\u001b[39m \u001b[39mself\u001b[39;49m\u001b[39m.\u001b[39;49mreadinto(b)\n\u001b[1;32m    464\u001b[0m     \u001b[39mreturn\u001b[39;00m \u001b[39mmemoryview\u001b[39m(b)[:n]\u001b[39m.\u001b[39mtobytes()\n\u001b[1;32m    465\u001b[0m \u001b[39melse\u001b[39;00m:\n\u001b[1;32m    466\u001b[0m     \u001b[39m# Amount is not given (unbounded read) so we must check self.length\u001b[39;00m\n\u001b[1;32m    467\u001b[0m     \u001b[39m# and self.chunked\u001b[39;00m\n",
      "File \u001b[0;32m~/opt/anaconda3/envs/chatbot_env/lib/python3.9/http/client.py:507\u001b[0m, in \u001b[0;36mHTTPResponse.readinto\u001b[0;34m(self, b)\u001b[0m\n\u001b[1;32m    502\u001b[0m         b \u001b[39m=\u001b[39m \u001b[39mmemoryview\u001b[39m(b)[\u001b[39m0\u001b[39m:\u001b[39mself\u001b[39m\u001b[39m.\u001b[39mlength]\n\u001b[1;32m    504\u001b[0m \u001b[39m# we do not use _safe_read() here because this may be a .will_close\u001b[39;00m\n\u001b[1;32m    505\u001b[0m \u001b[39m# connection, and the user is reading more bytes than will be provided\u001b[39;00m\n\u001b[1;32m    506\u001b[0m \u001b[39m# (for example, reading in 1k chunks)\u001b[39;00m\n\u001b[0;32m--> 507\u001b[0m n \u001b[39m=\u001b[39m \u001b[39mself\u001b[39;49m\u001b[39m.\u001b[39;49mfp\u001b[39m.\u001b[39;49mreadinto(b)\n\u001b[1;32m    508\u001b[0m \u001b[39mif\u001b[39;00m \u001b[39mnot\u001b[39;00m n \u001b[39mand\u001b[39;00m b:\n\u001b[1;32m    509\u001b[0m     \u001b[39m# Ideally, we would raise IncompleteRead if the content-length\u001b[39;00m\n\u001b[1;32m    510\u001b[0m     \u001b[39m# wasn't satisfied, but it might break compatibility.\u001b[39;00m\n\u001b[1;32m    511\u001b[0m     \u001b[39mself\u001b[39m\u001b[39m.\u001b[39m_close_conn()\n",
      "File \u001b[0;32m~/opt/anaconda3/envs/chatbot_env/lib/python3.9/socket.py:704\u001b[0m, in \u001b[0;36mSocketIO.readinto\u001b[0;34m(self, b)\u001b[0m\n\u001b[1;32m    702\u001b[0m \u001b[39mwhile\u001b[39;00m \u001b[39mTrue\u001b[39;00m:\n\u001b[1;32m    703\u001b[0m     \u001b[39mtry\u001b[39;00m:\n\u001b[0;32m--> 704\u001b[0m         \u001b[39mreturn\u001b[39;00m \u001b[39mself\u001b[39;49m\u001b[39m.\u001b[39;49m_sock\u001b[39m.\u001b[39;49mrecv_into(b)\n\u001b[1;32m    705\u001b[0m     \u001b[39mexcept\u001b[39;00m timeout:\n\u001b[1;32m    706\u001b[0m         \u001b[39mself\u001b[39m\u001b[39m.\u001b[39m_timeout_occurred \u001b[39m=\u001b[39m \u001b[39mTrue\u001b[39;00m\n",
      "\u001b[0;31mKeyboardInterrupt\u001b[0m: "
     ]
    }
   ],
   "source": [
    "session = requests.Session()\n",
    "\n",
    "for tag in temp_url_set_2:\n",
    "\n",
    "    # start session and get the search page\n",
    "    response = session.get(tag)\n",
    "\n",
    "    # parse the search page lxml\n",
    "    data = soup(response.content, 'lxml')\n",
    "    print(\"Accessing URL -------------------------- \" + tag)\n",
    "    \n",
    "    if data.find('title') is None:\n",
    "        continue\n",
    "    elif data.find('title').string is None:\n",
    "        continue\n",
    "    else:\n",
    "        title = data.find('title').string\n",
    "    \n",
    "        for item in data(['style', 'script', 'a', 'footer', 'nav', 'title']):\n",
    "            # Remove tags\n",
    "            item.decompose()\n",
    "        \n",
    "        #print(title)\n",
    "    \n",
    "        temp_data = data.get_text()\n",
    "        temp_data = temp_data.replace(\"\\n\", \" \")\n",
    "        temp_data = re.sub(' +',' ',temp_data)\n",
    "        print(temp_data)\n",
    "    \n",
    "        temp_df = pd.DataFrame({'address': [tag],\n",
    "                                'title': [title],\n",
    "                                'data': [temp_data]})\n",
    "        \n",
    "        #pd.concat([website_data, temp_df], ignore_index=True)\n",
    "        #website_data = website_data.append({'title': title}, ignore_index=True)\n",
    "        #website_data = website_data.append({'data': temp_data}, ignore_index=True)\n",
    "        #website_data = website_data.append({'address': tag, 'title': title, 'data': temp_data}, ignore_index=True)\n",
    "        temp_df.to_csv('scrapper_data.csv', mode='a', index=False, header=False)    "
   ]
  }
 ],
 "metadata": {
  "colab": {
   "provenance": []
  },
  "kernelspec": {
   "display_name": "Python 3 (ipykernel)",
   "language": "python",
   "name": "python3"
  },
  "language_info": {
   "codemirror_mode": {
    "name": "ipython",
    "version": 3
   },
   "file_extension": ".py",
   "mimetype": "text/x-python",
   "name": "python",
   "nbconvert_exporter": "python",
   "pygments_lexer": "ipython3",
   "version": "3.9.16"
  }
 },
 "nbformat": 4,
 "nbformat_minor": 1
}
